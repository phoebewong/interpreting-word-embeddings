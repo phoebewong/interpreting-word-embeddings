{
 "cells": [
  {
   "cell_type": "code",
   "execution_count": 1,
   "metadata": {},
   "outputs": [],
   "source": [
    "import gensim\n",
    "import numpy as np\n",
    "import pandas as pd\n",
    "import seaborn as sns; sns.set()\n",
    "import umap\n",
    "import matplotlib.pyplot as plt"
   ]
  },
  {
   "cell_type": "code",
   "execution_count": 2,
   "metadata": {},
   "outputs": [],
   "source": [
    "model = gensim.models.KeyedVectors.load_word2vec_format('../data/raw/GoogleNews-vectors-negative300.bin.gz', binary=True)"
   ]
  },
  {
   "cell_type": "code",
   "execution_count": 83,
   "metadata": {},
   "outputs": [
    {
     "data": {
      "text/plain": [
       "''"
      ]
     },
     "execution_count": 83,
     "metadata": {},
     "output_type": "execute_result"
    }
   ],
   "source": [
    "spine = open(\"../data/processed/1000d - spine/word2vec_original_15k_1000d_train.txt.spine\",\"r\") .read().split('\\n')\n",
    "# open(\"../data/raw/GoogleNews-vectors-negative300.bin.gz\").readlines()\n",
    "spine.pop(15000)\n",
    "len(spine)"
   ]
  },
  {
   "cell_type": "code",
   "execution_count": 86,
   "metadata": {},
   "outputs": [],
   "source": [
    "spine_tokens = []\n",
    "spine_embeddings = []\n",
    "\n",
    "for i, line in enumerate(spine):\n",
    "#     if i %100 == 0:\n",
    "#         print(\"Processing:\", i)\n",
    "    tokens = line.strip().split()\n",
    "    spine_tokens.append(tokens[0])\n",
    "    spine_embeddings.append([float(i) for i in tokens[1:]])"
   ]
  },
  {
   "cell_type": "code",
   "execution_count": 92,
   "metadata": {
    "collapsed": true
   },
   "outputs": [
    {
     "data": {
      "text/plain": [
       "['writings',\n",
       " 'yellow',\n",
       " 'four',\n",
       " 'gag',\n",
       " 'prefix',\n",
       " 'woods',\n",
       " 'spiders',\n",
       " 'hanging',\n",
       " 'woody',\n",
       " 'cyprus']"
      ]
     },
     "execution_count": 92,
     "metadata": {},
     "output_type": "execute_result"
    }
   ],
   "source": [
    "spine_tokens[:10]"
   ]
  },
  {
   "cell_type": "code",
   "execution_count": 91,
   "metadata": {},
   "outputs": [
    {
     "data": {
      "text/plain": [
       "4199"
      ]
     },
     "execution_count": 91,
     "metadata": {},
     "output_type": "execute_result"
    }
   ],
   "source": [
    "spine_tokens.index(\"germany\")"
   ]
  },
  {
   "cell_type": "code",
   "execution_count": 88,
   "metadata": {},
   "outputs": [
    {
     "data": {
      "text/plain": [
       "list"
      ]
     },
     "execution_count": 88,
     "metadata": {},
     "output_type": "execute_result"
    }
   ],
   "source": [
    "type(spine_tokens)"
   ]
  },
  {
   "cell_type": "code",
   "execution_count": 3,
   "metadata": {},
   "outputs": [
    {
     "data": {
      "text/plain": [
       "[('queen', 0.7118192911148071),\n",
       " ('monarch', 0.6189674139022827),\n",
       " ('princess', 0.5902431011199951),\n",
       " ('crown_prince', 0.5499460697174072),\n",
       " ('prince', 0.5377321243286133),\n",
       " ('kings', 0.5236844420433044),\n",
       " ('Queen_Consort', 0.5235945582389832),\n",
       " ('queens', 0.518113374710083),\n",
       " ('sultan', 0.5098593235015869),\n",
       " ('monarchy', 0.5087411999702454)]"
      ]
     },
     "execution_count": 3,
     "metadata": {},
     "output_type": "execute_result"
    }
   ],
   "source": [
    "model.most_similar(positive=['woman', 'king'], negative=['man'])"
   ]
  },
  {
   "cell_type": "code",
   "execution_count": 105,
   "metadata": {},
   "outputs": [
    {
     "data": {
      "text/plain": [
       "[('Paris', 0.7672388553619385),\n",
       " ('French', 0.6049168109893799),\n",
       " ('Parisian', 0.5810437202453613),\n",
       " ('Colombes', 0.5599985718727112),\n",
       " ('Hopital_Europeen_Georges_Pompidou', 0.555890679359436),\n",
       " ('Melun', 0.551270067691803),\n",
       " ('Dinard', 0.5451847314834595),\n",
       " ('Brussels', 0.5420989990234375),\n",
       " ('Mairie_de', 0.5337448120117188),\n",
       " ('Cagnes_sur_Mer', 0.531246542930603)]"
      ]
     },
     "execution_count": 105,
     "metadata": {},
     "output_type": "execute_result"
    }
   ],
   "source": [
    "model.most_similar(positive=['France', 'Berlin'], negative=['Germany'])"
   ]
  },
  {
   "cell_type": "code",
   "execution_count": 107,
   "metadata": {},
   "outputs": [
    {
     "data": {
      "text/plain": [
       "[('Berlin', 0.7644002437591553),\n",
       " ('Frankfurt', 0.7329736948013306),\n",
       " ('Dusseldorf', 0.7009456753730774),\n",
       " ('Munich', 0.6773864030838013),\n",
       " ('Cologne', 0.6470192670822144),\n",
       " ('Düsseldorf', 0.6399551630020142),\n",
       " ('Stuttgart', 0.6361044645309448),\n",
       " ('Munich_Germany', 0.6238142251968384),\n",
       " ('Budapest', 0.6192865371704102),\n",
       " ('Hamburg', 0.6168562769889832)]"
      ]
     },
     "execution_count": 107,
     "metadata": {},
     "output_type": "execute_result"
    }
   ],
   "source": [
    "model.most_similar(positive=['Germany', 'Paris'], negative=['France'])"
   ]
  },
  {
   "cell_type": "code",
   "execution_count": 108,
   "metadata": {},
   "outputs": [
    {
     "data": {
      "text/plain": [
       "[('France', 0.7884093523025513),\n",
       " ('Belgium', 0.6197876930236816),\n",
       " ('extradites_Noriega', 0.5764307379722595),\n",
       " ('Villebon_Sur_Yvette', 0.5683187246322632),\n",
       " ('Spain', 0.566477358341217),\n",
       " ('Italy', 0.5654898881912231),\n",
       " ('Switzerland', 0.560969352722168),\n",
       " ('French', 0.5420510768890381),\n",
       " ('Marseille', 0.5417743921279907),\n",
       " ('PARIS_AFX_Gaz_de', 0.532699704170227)]"
      ]
     },
     "execution_count": 108,
     "metadata": {},
     "output_type": "execute_result"
    }
   ],
   "source": [
    "model.most_similar(positive=['Germany', 'Paris'], negative=['Berlin'])"
   ]
  },
  {
   "cell_type": "code",
   "execution_count": 4,
   "metadata": {},
   "outputs": [
    {
     "data": {
      "text/plain": [
       "[('Parisian', 0.6789354681968689),\n",
       " ('Hopital_Europeen_Georges_Pompidou', 0.6536554098129272),\n",
       " ('Spyker_D##_Peking', 0.6336591839790344),\n",
       " ('France', 0.633491039276123),\n",
       " ('Pantheon_Sorbonne', 0.6312517523765564),\n",
       " ('Aeroports_De', 0.621803879737854),\n",
       " ('Grigny_south', 0.6194689273834229),\n",
       " ('Place_Denfert_Rochereau', 0.6028153896331787),\n",
       " ('guest_Olivier_Dolige', 0.6024351119995117),\n",
       " ('Lazard_Freres_Banque', 0.5998712182044983)]"
      ]
     },
     "execution_count": 4,
     "metadata": {},
     "output_type": "execute_result"
    }
   ],
   "source": [
    "model.most_similar(\"Paris\")"
   ]
  },
  {
   "cell_type": "code",
   "execution_count": 5,
   "metadata": {},
   "outputs": [
    {
     "data": {
      "text/plain": [
       "[('French', 0.7000749707221985),\n",
       " ('extradites_Noriega', 0.6946742534637451),\n",
       " ('Belgium', 0.6933180689811707),\n",
       " ('Villebon_Sur_Yvette', 0.6776412725448608),\n",
       " ('PARIS_AFX_Gaz_de', 0.6628001928329468),\n",
       " ('called_Xynthia_blew', 0.6588140726089478),\n",
       " ('Brive_la', 0.644013524055481),\n",
       " ('COLVILLE_SUR_MER', 0.6336530447006226),\n",
       " ('Paris', 0.6334909796714783),\n",
       " ('Germany', 0.6270755529403687)]"
      ]
     },
     "execution_count": 5,
     "metadata": {},
     "output_type": "execute_result"
    }
   ],
   "source": [
    "model.most_similar(\"France\")"
   ]
  },
  {
   "cell_type": "code",
   "execution_count": 6,
   "metadata": {
    "collapsed": true
   },
   "outputs": [
    {
     "data": {
      "text/plain": [
       "array([ 4.85839844e-02,  7.86132812e-02,  3.24218750e-01,  3.49121094e-02,\n",
       "        7.71484375e-02,  3.54003906e-02, -1.25976562e-01, -3.86718750e-01,\n",
       "       -1.31835938e-01,  2.91748047e-02, -1.44531250e-01, -1.42578125e-01,\n",
       "        1.79687500e-01, -2.75390625e-01, -1.65039062e-01,  9.32617188e-02,\n",
       "        1.17187500e-01,  1.82617188e-01,  6.10351562e-02,  1.14257812e-01,\n",
       "        1.82617188e-01, -1.16699219e-01, -3.24707031e-02, -7.56835938e-02,\n",
       "        9.64355469e-03,  8.59375000e-02, -2.85156250e-01, -2.55859375e-01,\n",
       "        3.01513672e-02,  2.16796875e-01, -1.00097656e-01,  2.85644531e-02,\n",
       "       -2.81250000e-01, -8.39843750e-02, -2.02636719e-02, -1.96289062e-01,\n",
       "       -4.78515625e-02,  7.12890625e-02, -1.42578125e-01, -1.13525391e-02,\n",
       "        1.16210938e-01,  7.22656250e-02,  1.47460938e-01,  1.50390625e-01,\n",
       "        1.40625000e-01,  2.47070312e-01, -1.69921875e-01,  7.76367188e-02,\n",
       "       -5.44433594e-02,  1.66992188e-01, -1.45507812e-01,  2.12402344e-02,\n",
       "       -7.51953125e-02,  4.58984375e-02, -2.55859375e-01,  1.49414062e-01,\n",
       "       -5.62500000e-01, -1.34765625e-01, -1.87500000e-01, -3.26538086e-03,\n",
       "        8.44726562e-02,  1.33789062e-01,  2.99072266e-02, -2.92968750e-01,\n",
       "       -1.56250000e-01,  2.50244141e-03, -1.10473633e-02, -7.08007812e-02,\n",
       "        1.90429688e-02,  1.56250000e-01, -4.95605469e-02,  2.08007812e-01,\n",
       "       -3.66210938e-02,  2.07031250e-01,  1.27929688e-01,  2.91748047e-02,\n",
       "       -4.88281250e-03, -6.31713867e-03,  6.49414062e-02,  1.66015625e-01,\n",
       "       -1.08032227e-02, -1.83593750e-01,  1.49414062e-01, -1.71875000e-01,\n",
       "        1.85546875e-01, -9.86328125e-02, -2.10937500e-01, -2.06298828e-02,\n",
       "        1.02050781e-01,  1.41601562e-01, -1.21093750e-01,  5.93261719e-02,\n",
       "       -2.89062500e-01,  7.47070312e-02,  3.11279297e-02, -2.21679688e-01,\n",
       "        1.94335938e-01, -4.62890625e-01, -6.78710938e-02, -1.91650391e-02,\n",
       "       -2.39257812e-01, -1.09863281e-01, -1.45507812e-01,  1.81640625e-01,\n",
       "        1.27929688e-01, -1.41601562e-01,  8.39843750e-02, -6.56127930e-03,\n",
       "        8.83789062e-02,  2.75878906e-02, -5.61523438e-03,  8.88671875e-02,\n",
       "        2.25585938e-01, -3.49121094e-02,  1.72851562e-01, -2.64892578e-02,\n",
       "        1.61743164e-03,  2.17773438e-01,  3.51562500e-01,  1.61132812e-01,\n",
       "       -8.20312500e-02, -1.36718750e-01,  2.20947266e-02, -2.96630859e-02,\n",
       "        2.77343750e-01, -1.67968750e-01, -3.08837891e-02, -1.59179688e-01,\n",
       "       -4.00390625e-01,  8.93554688e-02,  2.99072266e-02,  1.82617188e-01,\n",
       "       -3.06640625e-01, -1.74804688e-01, -9.09423828e-03, -4.51660156e-02,\n",
       "        4.34570312e-02, -1.25732422e-02,  1.57226562e-01, -7.66601562e-02,\n",
       "        2.36328125e-01, -1.10839844e-01,  2.11914062e-01, -5.29785156e-02,\n",
       "        1.22558594e-01,  9.39941406e-03,  1.25976562e-01,  4.85839844e-02,\n",
       "       -4.76074219e-02, -2.09960938e-01, -1.42578125e-01,  1.34277344e-02,\n",
       "       -3.35693359e-03,  8.39843750e-02,  1.03515625e-01, -3.14453125e-01,\n",
       "        8.48388672e-03,  1.78710938e-01,  9.47265625e-02,  1.61132812e-01,\n",
       "       -4.76074219e-02,  1.91406250e-01,  2.09960938e-01, -7.17773438e-02,\n",
       "        2.94921875e-01, -1.96289062e-01, -1.78710938e-01,  1.10351562e-01,\n",
       "       -1.77001953e-02,  9.66796875e-02, -1.20605469e-01,  1.40625000e-01,\n",
       "        6.34765625e-02, -1.93359375e-01, -7.27539062e-02, -6.64062500e-02,\n",
       "        4.46777344e-02, -1.25000000e-01,  1.26953125e-01, -1.02539062e-01,\n",
       "        1.30859375e-01, -2.37304688e-01, -3.10546875e-01, -2.39257812e-01,\n",
       "        4.23828125e-01, -3.55529785e-03,  1.85546875e-01,  2.38281250e-01,\n",
       "       -1.48437500e-01,  1.91406250e-01,  1.20117188e-01,  5.73730469e-02,\n",
       "        1.11816406e-01,  9.52148438e-03, -1.42822266e-02,  3.33984375e-01,\n",
       "        1.17675781e-01, -8.44726562e-02, -1.66992188e-01, -2.12890625e-01,\n",
       "        1.13281250e-01,  3.71093750e-02, -6.00585938e-02, -1.61132812e-01,\n",
       "        1.28906250e-01,  1.63085938e-01, -1.76757812e-01, -2.05078125e-01,\n",
       "        7.95898438e-02, -7.95898438e-02,  5.39550781e-02, -1.28906250e-01,\n",
       "       -8.64257812e-02,  3.75000000e-01, -1.26953125e-01, -1.11328125e-01,\n",
       "        1.81884766e-02, -1.55273438e-01,  1.50390625e-01, -4.27246094e-02,\n",
       "       -1.30859375e-01, -1.69921875e-01, -6.16455078e-03, -3.06396484e-02,\n",
       "       -1.56250000e-01,  7.37304688e-02,  2.59765625e-01,  8.49609375e-02,\n",
       "        3.71093750e-01,  9.22851562e-02, -9.81445312e-02, -3.39355469e-02,\n",
       "        2.01171875e-01,  7.12890625e-02, -5.49316406e-02,  3.61328125e-02,\n",
       "       -9.32617188e-02,  7.56835938e-02, -2.29492188e-01, -8.15429688e-02,\n",
       "        8.88671875e-02, -6.03027344e-02,  1.64062500e-01,  2.35351562e-01,\n",
       "        1.41601562e-01,  7.03125000e-02, -3.90625000e-01, -1.15722656e-01,\n",
       "       -2.25585938e-01, -1.12792969e-01,  8.59375000e-02,  7.81250000e-02,\n",
       "       -2.20947266e-02,  1.56250000e-01,  4.76074219e-02,  1.19140625e-01,\n",
       "        3.61328125e-02, -1.98242188e-01,  7.47070312e-02,  1.72851562e-01,\n",
       "        6.98242188e-02,  2.75390625e-01, -3.36914062e-02,  2.49023438e-01,\n",
       "        2.17773438e-01, -6.03027344e-02, -1.47460938e-01, -2.92968750e-01,\n",
       "       -1.18164062e-01,  1.43554688e-01, -1.95312500e-01,  7.56835938e-02,\n",
       "       -3.56445312e-02, -1.07910156e-01,  7.51953125e-02,  9.81445312e-02,\n",
       "       -6.59179688e-02,  2.65625000e-01, -1.48437500e-01,  4.93164062e-02,\n",
       "       -2.37304688e-01,  2.50244141e-02,  8.69750977e-04, -3.47900391e-03,\n",
       "       -8.25195312e-02,  2.43164062e-01, -2.49023438e-02,  1.49414062e-01,\n",
       "       -6.64062500e-02,  4.95605469e-02,  1.38671875e-01,  3.16406250e-01,\n",
       "       -6.58035278e-05,  1.62109375e-01, -1.54296875e-01, -7.71484375e-02,\n",
       "       -1.19628906e-01, -2.22167969e-02,  1.60156250e-01, -7.17773438e-02],\n",
       "      dtype=float32)"
      ]
     },
     "execution_count": 6,
     "metadata": {},
     "output_type": "execute_result"
    }
   ],
   "source": [
    "model['France']"
   ]
  },
  {
   "cell_type": "code",
   "execution_count": null,
   "metadata": {},
   "outputs": [],
   "source": [
    "## Name fig"
   ]
  },
  {
   "cell_type": "code",
   "execution_count": 7,
   "metadata": {
    "scrolled": false
   },
   "outputs": [
    {
     "data": {
      "image/png": "[encoded data removed]",
      "text/plain": [
       "<Figure size 1440x720 with 2 Axes>"
      ]
     },
     "metadata": {
      "needs_background": "light"
     },
     "output_type": "display_data"
    }
   ],
   "source": [
    "fig, ax = plt.subplots(figsize = (20,10))\n",
    "name_htmap = sns.heatmap([model['Phoebe'], model['Christine'], model['Patrick']], cmap='RdBu')\n",
    "name_htmap.set_yticklabels(['Phoebe', 'Christine', 'Patrick'], rotation='horizontal')\n",
    "plt.savefig(\"name_heatmap.png\", bbox_inches= 'tight', transparent = True)"
   ]
  },
  {
   "cell_type": "code",
   "execution_count": 5,
   "metadata": {},
   "outputs": [
    {
     "data": {
      "image/png": "[encoded data removed]",
      "text/plain": [
       "<Figure size 1440x720 with 2 Axes>"
      ]
     },
     "metadata": {
      "needs_background": "light"
     },
     "output_type": "display_data"
    }
   ],
   "source": [
    "fig, ax = plt.subplots(figsize = (20,10))\n",
    "name_htmap = sns.heatmap([model['Christine'], model['Christoper']], cmap='RdBu')\n",
    "name_htmap.set_yticklabels(['Christine', 'Christoper'], rotation='horizontal')\n",
    "plt.savefig(\"name_heatmap.png\", bbox_inches= 'tight')"
   ]
  },
  {
   "cell_type": "code",
   "execution_count": 7,
   "metadata": {
    "collapsed": true
   },
   "outputs": [
    {
     "data": {
      "text/plain": [
       "[('French', 0.7000749707221985),\n",
       " ('extradites_Noriega', 0.6946742534637451),\n",
       " ('Belgium', 0.6933180689811707),\n",
       " ('Villebon_Sur_Yvette', 0.6776412725448608),\n",
       " ('PARIS_AFX_Gaz_de', 0.6628001928329468),\n",
       " ('called_Xynthia_blew', 0.6588140726089478),\n",
       " ('Brive_la', 0.644013524055481),\n",
       " ('COLVILLE_SUR_MER', 0.6336530447006226),\n",
       " ('Paris', 0.6334909796714783),\n",
       " ('Germany', 0.6270755529403687)]"
      ]
     },
     "execution_count": 7,
     "metadata": {},
     "output_type": "execute_result"
    }
   ],
   "source": [
    "model.similar_by_word('France')"
   ]
  },
  {
   "cell_type": "markdown",
   "metadata": {},
   "source": [
    "## All available vocab in word2vec model"
   ]
  },
  {
   "cell_type": "code",
   "execution_count": 26,
   "metadata": {},
   "outputs": [],
   "source": [
    "vocab = model.vocab.keys()\n",
    "vocab_list = list(vocab)"
   ]
  },
  {
   "cell_type": "code",
   "execution_count": 29,
   "metadata": {},
   "outputs": [
    {
     "ename": "AttributeError",
     "evalue": "'dict_keys' object has no attribute 'get'",
     "output_type": "error",
     "traceback": [
      "\u001b[0;31m---------------------------------------------------------------------------\u001b[0m",
      "\u001b[0;31mAttributeError\u001b[0m                            Traceback (most recent call last)",
      "\u001b[0;32m<ipython-input-29-0487cf24295f>\u001b[0m in \u001b[0;36m<module>\u001b[0;34m()\u001b[0m\n\u001b[0;32m----> 1\u001b[0;31m \u001b[0mvocab\u001b[0m\u001b[0;34m.\u001b[0m\u001b[0mget\u001b[0m\u001b[0;34m(\u001b[0m\u001b[0;34m\"French\"\u001b[0m\u001b[0;34m)\u001b[0m\u001b[0;34m\u001b[0m\u001b[0;34m\u001b[0m\u001b[0m\n\u001b[0m",
      "\u001b[0;31mAttributeError\u001b[0m: 'dict_keys' object has no attribute 'get'"
     ]
    }
   ],
   "source": [
    "vocab.get(\"French\")"
   ]
  },
  {
   "cell_type": "code",
   "execution_count": 30,
   "metadata": {},
   "outputs": [
    {
     "data": {
      "text/plain": [
       "<gensim.models.keyedvectors.Vocab at 0x1afb698780>"
      ]
     },
     "execution_count": 30,
     "metadata": {},
     "output_type": "execute_result"
    }
   ],
   "source": [
    "vocab_list"
   ]
  },
  {
   "cell_type": "code",
   "execution_count": 28,
   "metadata": {
    "collapsed": true
   },
   "outputs": [
    {
     "data": {
      "text/plain": [
       "['</s>',\n",
       " 'in',\n",
       " 'for',\n",
       " 'that',\n",
       " 'is',\n",
       " 'on',\n",
       " '##',\n",
       " 'The',\n",
       " 'with',\n",
       " 'said',\n",
       " 'was',\n",
       " 'the',\n",
       " 'at',\n",
       " 'not',\n",
       " 'as',\n",
       " 'it',\n",
       " 'be',\n",
       " 'from',\n",
       " 'by',\n",
       " 'are',\n",
       " 'I',\n",
       " 'have',\n",
       " 'he',\n",
       " 'will',\n",
       " 'has',\n",
       " '####',\n",
       " 'his',\n",
       " 'an',\n",
       " 'this',\n",
       " 'or',\n",
       " 'their',\n",
       " 'who',\n",
       " 'they',\n",
       " 'but',\n",
       " '$',\n",
       " 'had',\n",
       " 'year',\n",
       " 'were',\n",
       " 'we',\n",
       " 'more',\n",
       " '###',\n",
       " 'up',\n",
       " 'been',\n",
       " 'you',\n",
       " 'its',\n",
       " 'one',\n",
       " 'about',\n",
       " 'would',\n",
       " 'which',\n",
       " 'out']"
      ]
     },
     "execution_count": 28,
     "metadata": {},
     "output_type": "execute_result"
    }
   ],
   "source": [
    "vocab_list[:50]"
   ]
  },
  {
   "cell_type": "markdown",
   "metadata": {},
   "source": [
    "## Heatmap"
   ]
  },
  {
   "cell_type": "code",
   "execution_count": 2,
   "metadata": {},
   "outputs": [
    {
     "data": {
      "image/png": "[encoded data removed]",
      "text/plain": [
       "<Figure size 432x288 with 2 Axes>"
      ]
     },
     "metadata": {
      "needs_background": "light"
     },
     "output_type": "display_data"
    }
   ],
   "source": [
    "uniform_data = np.random.rand(10, 12)\n",
    "ax = sns.heatmap(uniform_data)"
   ]
  },
  {
   "cell_type": "code",
   "execution_count": 4,
   "metadata": {},
   "outputs": [
    {
     "data": {
      "text/plain": [
       "(10, 12)"
      ]
     },
     "execution_count": 4,
     "metadata": {},
     "output_type": "execute_result"
    }
   ],
   "source": [
    "uniform_data.shape"
   ]
  },
  {
   "cell_type": "markdown",
   "metadata": {},
   "source": [
    "## Countries\n",
    "List: https://gist.github.com/kalinchernev/486393efcca01623b18d"
   ]
  },
  {
   "cell_type": "code",
   "execution_count": 93,
   "metadata": {},
   "outputs": [],
   "source": [
    "countries = np.array(['Australia', 'Germany', 'France', 'China']) # America\n",
    "capitals = np.array(['Canberra', 'Berlin', 'Paris','Beijing'])"
   ]
  },
  {
   "cell_type": "code",
   "execution_count": 95,
   "metadata": {},
   "outputs": [
    {
     "data": {
      "text/plain": [
       "'australia'"
      ]
     },
     "execution_count": 95,
     "metadata": {},
     "output_type": "execute_result"
    }
   ],
   "source": [
    "countries[0].lower()"
   ]
  },
  {
   "cell_type": "code",
   "execution_count": 41,
   "metadata": {
    "scrolled": true
   },
   "outputs": [],
   "source": [
    "countries_vec = np.array([model[country] for country in countries])\n",
    "capital_vec = np.array([model[capital] for capital in capitals])"
   ]
  },
  {
   "cell_type": "code",
   "execution_count": 99,
   "metadata": {},
   "outputs": [],
   "source": [
    "countries_spline_1000d = np.array([spine_embeddings[spine_tokens.index(country.lower())] for country in countries])\n",
    "capital_spline_1000d = np.array([spine_embeddings[spine_tokens.index(capital.lower())] for capital in capitals])"
   ]
  },
  {
   "cell_type": "code",
   "execution_count": 114,
   "metadata": {},
   "outputs": [
    {
     "data": {
      "text/plain": [
       "(4, 1000)"
      ]
     },
     "execution_count": 114,
     "metadata": {},
     "output_type": "execute_result"
    }
   ],
   "source": [
    "plt.clf()\n",
    "ax = sns.heatmap(words_weight_heatmap, cmap='RdBu_r', center=0, xticklabels=0)\n",
    "# ax = sns.heatmap(words_svd, cmap=sns.diverging_palette(0, 255, sep=32, n=256), center=0, xticklabels=0)\n",
    "plt.subplots_adjust(left=0, right=1, top=0.86, bottom=0.23)\n",
    "ax.set_yticklabels(words,rotation='horizontal',fontsize=12)\n",
    "# plt.savefig('heatmap_svd.png', format='png',dpi=300)\n",
    "plt.show()"
   ]
  },
  {
   "cell_type": "code",
   "execution_count": 167,
   "metadata": {},
   "outputs": [
    {
     "data": {
      "text/plain": [
       "array([[0.        , 0.        , 0.        , ..., 0.        , 0.        ,\n",
       "        0.02825896],\n",
       "       [0.        , 0.        , 0.        , ..., 0.        , 0.        ,\n",
       "        0.        ],\n",
       "       [0.        , 0.        , 0.        , ..., 0.        , 0.        ,\n",
       "        0.        ],\n",
       "       [0.        , 0.        , 0.        , ..., 0.        , 0.        ,\n",
       "        0.        ]])"
      ]
     },
     "execution_count": 167,
     "metadata": {},
     "output_type": "execute_result"
    }
   ],
   "source": [
    "countries_spline_1000d"
   ]
  },
  {
   "cell_type": "code",
   "execution_count": 168,
   "metadata": {},
   "outputs": [
    {
     "data": {
      "text/plain": [
       "<matplotlib.axes._subplots.AxesSubplot at 0x1b71135a90>"
      ]
     },
     "execution_count": 168,
     "metadata": {},
     "output_type": "execute_result"
    },
    {
     "data": {
      "image/png": "[encoded data removed]",
      "text/plain": [
       "<Figure size 1008x720 with 1 Axes>"
      ]
     },
     "metadata": {},
     "output_type": "display_data"
    }
   ],
   "source": [
    "trial = sns.heatmap(countries_spline_1000d, cbar_ax = cbar_ax, cmap='RdBu', center = 0)\n",
    "trial"
   ]
  },
  {
   "cell_type": "code",
   "execution_count": 169,
   "metadata": {
    "scrolled": false
   },
   "outputs": [
    {
     "data": {
      "text/plain": [
       "Text(0.5,1,'Difference between Countries and Capital')"
      ]
     },
     "execution_count": 169,
     "metadata": {},
     "output_type": "execute_result"
    },
    {
     "data": {
      "image/png": "[encoded data removed]",
      "text/plain": [
       "<Figure size 1440x720 with 4 Axes>"
      ]
     },
     "metadata": {},
     "output_type": "display_data"
    }
   ],
   "source": [
    "fig, ax = plt.subplots(1,3,figsize=(20,10), sharex=True, sharey = True)\n",
    "cbar_ax = fig.add_axes([.91, .3, .03, .4])\n",
    "\n",
    "_ = sns.heatmap(countries_spline_1000d, ax = ax[0], cbar_ax = cbar_ax, center = 0, cmap='RdBu')\n",
    "ax[0].set_title(\"Countries\")\n",
    "_ = sns.heatmap(capital_spline_1000d, ax = ax[1], cbar_ax = cbar_ax, center = 0, cmap='RdBu') \n",
    "ax[1].set_title(\"Capital\")\n",
    "\n",
    "diff_vec_spline = countries_spline_1000d - capital_spline_1000d\n",
    "_ = sns.heatmap(diff_vec_spline, ax = ax[2], cbar_ax = cbar_ax, center=0, cmap='RdBu')\n",
    "ax[2].set_title(\"Difference between Countries and Capital\")\n",
    "# ax[1] = sns.heatmap(capital_vec)"
   ]
  },
  {
   "cell_type": "code",
   "execution_count": 170,
   "metadata": {},
   "outputs": [
    {
     "data": {
      "text/plain": [
       "Text(0.5,1,'Difference between Countries and Capital')"
      ]
     },
     "execution_count": 170,
     "metadata": {},
     "output_type": "execute_result"
    },
    {
     "data": {
      "image/png": "[encoded data removed]",
      "text/plain": [
       "<Figure size 1440x720 with 4 Axes>"
      ]
     },
     "metadata": {},
     "output_type": "display_data"
    }
   ],
   "source": [
    "fig, ax = plt.subplots(1,3,figsize=(20,10), sharex=True, sharey = True)\n",
    "cbar_ax = fig.add_axes([.91, .3, .03, .4])\n",
    "\n",
    "_ = sns.heatmap(countries_vec, ax = ax[0], vmin = -.5, vmax = 0.5, cbar_ax = cbar_ax, center = 0, cmap='RdBu')\n",
    "ax[0].set_title(\"Countries\")\n",
    "_ = sns.heatmap(capital_vec, ax = ax[1], vmin = -.5, vmax = 0.5,cbar_ax = cbar_ax, center = 0, cmap='RdBu')\n",
    "ax[1].set_title(\"Capital\")\n",
    "\n",
    "diff_vec = countries_vec - capital_vec\n",
    "_ = sns.heatmap(diff_vec, ax = ax[2],vmin = -.5, vmax = 0.5, cbar_ax = cbar_ax, center = 0, cmap='RdBu')\n",
    "ax[2].set_title(\"Difference between Countries and Capital\")"
   ]
  },
  {
   "cell_type": "code",
   "execution_count": 50,
   "metadata": {},
   "outputs": [
    {
     "data": {
      "text/plain": [
       "(4, 300)"
      ]
     },
     "execution_count": 50,
     "metadata": {},
     "output_type": "execute_result"
    }
   ],
   "source": [
    "diff_vec.shape"
   ]
  },
  {
   "cell_type": "code",
   "execution_count": 15,
   "metadata": {},
   "outputs": [],
   "source": [
    "# countries = open(\"../data/raw/countries.txt\",\"r\") \n",
    "countries_list = open(\"../data/raw/countries.txt\",\"r\") .read().split('\\n')"
   ]
  },
  {
   "cell_type": "code",
   "execution_count": 16,
   "metadata": {},
   "outputs": [
    {
     "data": {
      "text/plain": [
       "['Afghanistan',\n",
       " 'Albania',\n",
       " 'Algeria',\n",
       " 'Andorra',\n",
       " 'Angola',\n",
       " 'Antigua & Deps',\n",
       " 'Argentina',\n",
       " 'Armenia',\n",
       " 'Australia',\n",
       " 'Austria',\n",
       " 'Azerbaijan',\n",
       " 'Bahamas',\n",
       " 'Bahrain',\n",
       " 'Bangladesh',\n",
       " 'Barbados',\n",
       " 'Belarus',\n",
       " 'Belgium',\n",
       " 'Belize',\n",
       " 'Benin',\n",
       " 'Bhutan',\n",
       " 'Bolivia',\n",
       " 'Bosnia Herzegovina',\n",
       " 'Botswana',\n",
       " 'Brazil',\n",
       " 'Brunei',\n",
       " 'Bulgaria',\n",
       " 'Burkina',\n",
       " 'Burundi',\n",
       " 'Cambodia',\n",
       " 'Cameroon',\n",
       " 'Canada',\n",
       " 'Cape Verde',\n",
       " 'Central African Rep',\n",
       " 'Chad',\n",
       " 'Chile',\n",
       " 'China',\n",
       " 'Colombia',\n",
       " 'Comoros',\n",
       " 'Congo',\n",
       " 'Congo {Democratic Rep}',\n",
       " 'Costa Rica',\n",
       " 'Croatia',\n",
       " 'Cuba',\n",
       " 'Cyprus',\n",
       " 'Czech Republic',\n",
       " 'Denmark',\n",
       " 'Djibouti',\n",
       " 'Dominica',\n",
       " 'Dominican Republic',\n",
       " 'East Timor',\n",
       " 'Ecuador',\n",
       " 'Egypt',\n",
       " 'El Salvador',\n",
       " 'Equatorial Guinea',\n",
       " 'Eritrea',\n",
       " 'Estonia',\n",
       " 'Ethiopia',\n",
       " 'Fiji',\n",
       " 'Finland',\n",
       " 'France',\n",
       " 'Gabon',\n",
       " 'Gambia',\n",
       " 'Georgia',\n",
       " 'Germany',\n",
       " 'Ghana',\n",
       " 'Greece',\n",
       " 'Grenada',\n",
       " 'Guatemala',\n",
       " 'Guinea',\n",
       " 'Guinea-Bissau',\n",
       " 'Guyana',\n",
       " 'Haiti',\n",
       " 'Honduras',\n",
       " 'Hungary',\n",
       " 'Iceland',\n",
       " 'India',\n",
       " 'Indonesia',\n",
       " 'Iran',\n",
       " 'Iraq',\n",
       " 'Ireland {Republic}',\n",
       " 'Israel',\n",
       " 'Italy',\n",
       " 'Ivory Coast',\n",
       " 'Jamaica',\n",
       " 'Japan',\n",
       " 'Jordan',\n",
       " 'Kazakhstan',\n",
       " 'Kenya',\n",
       " 'Kiribati',\n",
       " 'Korea North',\n",
       " 'Korea South',\n",
       " 'Kosovo',\n",
       " 'Kuwait',\n",
       " 'Kyrgyzstan',\n",
       " 'Laos',\n",
       " 'Latvia',\n",
       " 'Lebanon',\n",
       " 'Lesotho',\n",
       " 'Liberia',\n",
       " 'Libya',\n",
       " 'Liechtenstein',\n",
       " 'Lithuania',\n",
       " 'Luxembourg',\n",
       " 'Macedonia',\n",
       " 'Madagascar',\n",
       " 'Malawi',\n",
       " 'Malaysia',\n",
       " 'Maldives',\n",
       " 'Mali',\n",
       " 'Malta',\n",
       " 'Marshall Islands',\n",
       " 'Mauritania',\n",
       " 'Mauritius',\n",
       " 'Mexico',\n",
       " 'Micronesia',\n",
       " 'Moldova',\n",
       " 'Monaco',\n",
       " 'Mongolia',\n",
       " 'Montenegro',\n",
       " 'Morocco',\n",
       " 'Mozambique',\n",
       " 'Myanmar, {Burma}',\n",
       " 'Namibia',\n",
       " 'Nauru',\n",
       " 'Nepal',\n",
       " 'Netherlands',\n",
       " 'New Zealand',\n",
       " 'Nicaragua',\n",
       " 'Niger',\n",
       " 'Nigeria',\n",
       " 'Norway',\n",
       " 'Oman',\n",
       " 'Pakistan',\n",
       " 'Palau',\n",
       " 'Panama',\n",
       " 'Papua New Guinea',\n",
       " 'Paraguay',\n",
       " 'Peru',\n",
       " 'Philippines',\n",
       " 'Poland',\n",
       " 'Portugal',\n",
       " 'Qatar',\n",
       " 'Romania',\n",
       " 'Russian Federation',\n",
       " 'Rwanda',\n",
       " 'St Kitts & Nevis',\n",
       " 'St Lucia',\n",
       " 'Saint Vincent & the Grenadines',\n",
       " 'Samoa',\n",
       " 'San Marino',\n",
       " 'Sao Tome & Principe',\n",
       " 'Saudi Arabia',\n",
       " 'Senegal',\n",
       " 'Serbia',\n",
       " 'Seychelles',\n",
       " 'Sierra Leone',\n",
       " 'Singapore',\n",
       " 'Slovakia',\n",
       " 'Slovenia',\n",
       " 'Solomon Islands',\n",
       " 'Somalia',\n",
       " 'South Africa',\n",
       " 'South Sudan',\n",
       " 'Spain',\n",
       " 'Sri Lanka',\n",
       " 'Sudan',\n",
       " 'Suriname',\n",
       " 'Swaziland',\n",
       " 'Sweden',\n",
       " 'Switzerland',\n",
       " 'Syria',\n",
       " 'Taiwan',\n",
       " 'Tajikistan',\n",
       " 'Tanzania',\n",
       " 'Thailand',\n",
       " 'Togo',\n",
       " 'Tonga',\n",
       " 'Trinidad & Tobago',\n",
       " 'Tunisia',\n",
       " 'Turkey',\n",
       " 'Turkmenistan',\n",
       " 'Tuvalu',\n",
       " 'Uganda',\n",
       " 'Ukraine',\n",
       " 'United Arab Emirates',\n",
       " 'United Kingdom',\n",
       " 'United States',\n",
       " 'Uruguay',\n",
       " 'Uzbekistan',\n",
       " 'Vanuatu',\n",
       " 'Vatican City',\n",
       " 'Venezuela',\n",
       " 'Vietnam',\n",
       " 'Yemen',\n",
       " 'Zambia',\n",
       " 'Zimbabwe',\n",
       " '']"
      ]
     },
     "execution_count": 16,
     "metadata": {},
     "output_type": "execute_result"
    }
   ],
   "source": [
    "countries_list"
   ]
  },
  {
   "cell_type": "code",
   "execution_count": 17,
   "metadata": {},
   "outputs": [],
   "source": [
    "countries = countries_list[:1]"
   ]
  },
  {
   "cell_type": "markdown",
   "metadata": {},
   "source": [
    "## UMAP\n",
    "https://github.com/lmcinnes/umap"
   ]
  },
  {
   "cell_type": "code",
   "execution_count": 9,
   "metadata": {},
   "outputs": [],
   "source": [
    "from sklearn.datasets import load_digits, load_iris\n",
    "iris = load_iris()\n",
    "digits = load_digits()\n",
    "\n",
    "reducer = umap.UMAP()\n",
    "embedding = reducer.fit_transform(iris.data)\n",
    "embedding.shape\n",
    "\n",
    "# sns.set(style='white', context='notebook', rc={'figure.figsize':(14,10)})\n",
    "plt.scatter(embedding[:, 0], embedding[:, 1], c=[sns.color_palette()[x] for x in iris.target])\n",
    "plt.gca().set_aspect('equal', 'datalim')\n",
    "plt.title('UMAP projection of the Iris dataset', fontsize=24);"
   ]
  },
  {
   "cell_type": "code",
   "execution_count": 12,
   "metadata": {},
   "outputs": [
    {
     "name": "stderr",
     "output_type": "stream",
     "text": [
      "/Users/pwong/anaconda3/lib/python3.6/site-packages/umap/spectral.py:229: UserWarning: Embedding a total of 2 separate connected components using meta-embedding (experimental)\n",
      "  n_components\n"
     ]
    },
    {
     "data": {
      "text/plain": [
       "(150, 2)"
      ]
     },
     "execution_count": 12,
     "metadata": {},
     "output_type": "execute_result"
    }
   ],
   "source": [
    "reducer = umap.UMAP()\n",
    "embedding = reducer.fit_transform(iris.data)\n",
    "embedding.shape"
   ]
  },
  {
   "cell_type": "code",
   "execution_count": 16,
   "metadata": {
    "scrolled": false
   },
   "outputs": [
    {
     "data": {
      "image/png": "[encoded data removed]",
      "text/plain": [
       "<Figure size 1008x720 with 1 Axes>"
      ]
     },
     "metadata": {},
     "output_type": "display_data"
    }
   ],
   "source": [
    "# sns.set(style='white', context='notebook', rc={'figure.figsize':(14,10)})\n",
    "plt.scatter(embedding[:, 0], embedding[:, 1], c=[sns.color_palette()[x] for x in iris.target])\n",
    "plt.gca().set_aspect('equal', 'datalim')\n",
    "plt.title('UMAP projection of the Iris dataset', fontsize=24);"
   ]
  },
  {
   "cell_type": "markdown",
   "metadata": {},
   "source": [
    "## List of vocabularies in word2vec\n",
    "https://github.com/chrisjmccormick/inspect_word2vec/tree/master/vocabulary"
   ]
  },
  {
   "cell_type": "code",
   "execution_count": null,
   "metadata": {},
   "outputs": [],
   "source": []
  },
  {
   "cell_type": "code",
   "execution_count": null,
   "metadata": {},
   "outputs": [],
   "source": []
  }
 ],
 "metadata": {
  "kernelspec": {
   "display_name": "Python 3",
   "language": "python",
   "name": "python3"
  },
  "language_info": {
   "codemirror_mode": {
    "name": "ipython",
    "version": 3
   },
   "file_extension": ".py",
   "mimetype": "text/x-python",
   "name": "python",
   "nbconvert_exporter": "python",
   "pygments_lexer": "ipython3",
   "version": "3.6.8"
  }
 },
 "nbformat": 4,
 "nbformat_minor": 2
}
