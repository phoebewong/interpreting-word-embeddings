{
 "cells": [
  {
   "cell_type": "markdown",
   "metadata": {},
   "source": [
    "## Conditional Variational Autoencoder in Keras\n",
    "\n",
    "This notebook trains a conditional VAE on the MNIST data set using the keras API. It's based on the paper [Learning Structured Output Representation using Deep Conditional Generative Models ](https://www.google.com/url?sa=t&rct=j&q=&esrc=s&source=web&cd=2&cad=rja&uact=8&ved=0ahUKEwiamruIr5HVAhXFVj4KHRh0BG4QFggxMAE&url=https%3A%2F%2Fpdfs.semanticscholar.org%2F3f25%2Fe17eb717e5894e0404ea634451332f85d287.pdf&usg=AFQjCNGP9YZk7oDH-pyk_2_V3dAPJEiMbg) and inspired by the code fragments from Agustinus Kristiadi's blog [here](http://wiseodd.github.io/techblog/2016/12/17/conditional-vae/). For a really thorough math review on VAEs, please refer to Agustinus' blog post.\n",
    "\n",
    "My intent here is just to further my own understanding of how this type of autoencoder is constructed, and then probe the meaning of the variables in the latent space later on.\n",
    "\n",
    "### Setup\n",
    "We'll import a numpy and some useful stuff from Keras- namely all of the layers we're planning to use, the `Model` API, the backend (enabling us to directly manipulate tensors), MNIST data, and a few utilities for plotting and training."
   ]
  },
  {
   "cell_type": "markdown",
   "metadata": {},
   "source": [
    "https://github.com/nnormandin/Conditional_VAE/blob/master/Conditional_VAE.ipynb"
   ]
  },
  {
   "cell_type": "code",
   "execution_count": 2,
   "metadata": {
    "scrolled": true
   },
   "outputs": [
    {
     "name": "stderr",
     "output_type": "stream",
     "text": [
      "Using TensorFlow backend.\n",
      "/Users/pwong/anaconda3/lib/python3.6/site-packages/tensorflow/python/framework/dtypes.py:519: FutureWarning: Passing (type, 1) or '1type' as a synonym of type is deprecated; in a future version of numpy, it will be understood as (type, (1,)) / '(1,)type'.\n",
      "  _np_qint8 = np.dtype([(\"qint8\", np.int8, 1)])\n",
      "/Users/pwong/anaconda3/lib/python3.6/site-packages/tensorflow/python/framework/dtypes.py:520: FutureWarning: Passing (type, 1) or '1type' as a synonym of type is deprecated; in a future version of numpy, it will be understood as (type, (1,)) / '(1,)type'.\n",
      "  _np_quint8 = np.dtype([(\"quint8\", np.uint8, 1)])\n",
      "/Users/pwong/anaconda3/lib/python3.6/site-packages/tensorflow/python/framework/dtypes.py:521: FutureWarning: Passing (type, 1) or '1type' as a synonym of type is deprecated; in a future version of numpy, it will be understood as (type, (1,)) / '(1,)type'.\n",
      "  _np_qint16 = np.dtype([(\"qint16\", np.int16, 1)])\n",
      "/Users/pwong/anaconda3/lib/python3.6/site-packages/tensorflow/python/framework/dtypes.py:522: FutureWarning: Passing (type, 1) or '1type' as a synonym of type is deprecated; in a future version of numpy, it will be understood as (type, (1,)) / '(1,)type'.\n",
      "  _np_quint16 = np.dtype([(\"quint16\", np.uint16, 1)])\n",
      "/Users/pwong/anaconda3/lib/python3.6/site-packages/tensorflow/python/framework/dtypes.py:523: FutureWarning: Passing (type, 1) or '1type' as a synonym of type is deprecated; in a future version of numpy, it will be understood as (type, (1,)) / '(1,)type'.\n",
      "  _np_qint32 = np.dtype([(\"qint32\", np.int32, 1)])\n",
      "/Users/pwong/anaconda3/lib/python3.6/site-packages/tensorflow/python/framework/dtypes.py:528: FutureWarning: Passing (type, 1) or '1type' as a synonym of type is deprecated; in a future version of numpy, it will be understood as (type, (1,)) / '(1,)type'.\n",
      "  np_resource = np.dtype([(\"resource\", np.ubyte, 1)])\n"
     ]
    },
    {
     "name": "stdout",
     "output_type": "stream",
     "text": [
      "Populating the interactive namespace from numpy and matplotlib\n"
     ]
    }
   ],
   "source": [
    "import warnings\n",
    "import numpy as np\n",
    "from keras.layers import Input, Dense, Lambda\n",
    "from keras.layers.merge import concatenate as concat\n",
    "from keras.models import Model\n",
    "from keras import backend as K\n",
    "from keras.datasets import mnist\n",
    "from keras.utils import to_categorical\n",
    "from keras.callbacks import EarlyStopping\n",
    "from keras.optimizers import Adam\n",
    "from scipy.misc import imsave\n",
    "import matplotlib.pyplot as plt\n",
    "\n",
    "from sklearn.metrics.pairwise import cosine_similarity\n",
    "\n",
    "warnings.filterwarnings('ignore')\n",
    "%pylab inline"
   ]
  },
  {
   "cell_type": "code",
   "execution_count": 3,
   "metadata": {},
   "outputs": [],
   "source": [
    "import keras"
   ]
  },
  {
   "cell_type": "code",
   "execution_count": 42,
   "metadata": {},
   "outputs": [],
   "source": [
    "import pandas as pd"
   ]
  },
  {
   "cell_type": "markdown",
   "metadata": {},
   "source": [
    "#### Data import\n",
    "The really convenient `load_data` method pulls in MNIST data that is already separated into training and test partitions, with separate **X** (pixel representation) and **y** (label value). The **X** matrices are 28x28 numpy arrays, while the **y** is just an integer. \n"
   ]
  },
  {
   "cell_type": "code",
   "execution_count": 4,
   "metadata": {},
   "outputs": [],
   "source": [
    "(X_train, Y_train), (X_test, Y_test) = mnist.load_data()"
   ]
  },
  {
   "cell_type": "code",
   "execution_count": 5,
   "metadata": {},
   "outputs": [],
   "source": [
    "import numpy as np\n",
    "## Word embeddings\n",
    "spine = open(\"../word_embed/SPINE_word2vec.txt\",\"r\") .read().split('\\n')\n",
    "spine.pop(15000) # remove the last empty object\n",
    "\n",
    "\n",
    "spine_tokens = []\n",
    "spine_embeddings = []\n",
    "\n",
    "for i, line in enumerate(spine):\n",
    "#     if i %100 == 0:\n",
    "#         print(\"Processing:\", i)\n",
    "    tokens = line.strip().split()\n",
    "    spine_tokens.append(tokens[0])\n",
    "    spine_embeddings.append([float(i) for i in tokens[1:]])\n",
    "    \n",
    "spine_embeddings = np.array(spine_embeddings)\n",
    "spine_tokens = np.array(spine_tokens)"
   ]
  },
  {
   "cell_type": "code",
   "execution_count": 6,
   "metadata": {},
   "outputs": [
    {
     "data": {
      "text/plain": [
       "array(['writings', 'yellow', 'four', ..., 'ideological', 'richardson',\n",
       "       'expands'], dtype='<U18')"
      ]
     },
     "execution_count": 6,
     "metadata": {},
     "output_type": "execute_result"
    }
   ],
   "source": [
    "spine_tokens"
   ]
  },
  {
   "cell_type": "code",
   "execution_count": 7,
   "metadata": {},
   "outputs": [],
   "source": [
    "w2v_txt = open(\"../word_embed/word2vec_original_15k_300d_train.txt\",\"r\") .read().split('\\n')\n",
    "w2v_txt.pop(15000) # remove the last empty object\n",
    "\n",
    "\n",
    "w2v_tokens = []\n",
    "w2v_embeddings = []\n",
    "\n",
    "for i, line in enumerate(w2v_txt):\n",
    "    tokens = line.strip().split()\n",
    "    w2v_tokens.append(tokens[0])\n",
    "    w2v_embeddings.append([float(i) for i in tokens[1:]])\n",
    "    \n",
    "w2v_embeddings = np.array(w2v_embeddings)\n",
    "w2v_tokens = np.array(w2v_tokens)"
   ]
  },
  {
   "cell_type": "code",
   "execution_count": 8,
   "metadata": {},
   "outputs": [],
   "source": [
    "train_size = int(15000 * .8)\n",
    "test_size = int(15000 - train_size)"
   ]
  },
  {
   "cell_type": "code",
   "execution_count": 9,
   "metadata": {},
   "outputs": [],
   "source": [
    "N = train_size\n",
    "np.random.seed(33)\n",
    "# Train index\n",
    "train_inx = np.random.choice(list(range(spine_embeddings.shape[0])), size=train_size, replace=False)\n",
    "train_word_embed = spine_embeddings[train_inx, ]\n",
    "train_word_token = spine_tokens[train_inx]\n",
    "\n",
    "# Test index\n",
    "test_inx = list(set(np.arange(spine_embeddings.shape[0])) - set(train_inx))\n",
    "test_word_embed = spine_embeddings[test_inx, ]\n",
    "test_word_token = spine_tokens[test_inx]\n",
    "\n",
    "## Train word2vec original\n",
    "train_w2v_embed = w2v_embeddings[train_inx, ]\n",
    "train_w2v_token = w2v_tokens[train_inx]\n",
    "## Test word2vec original\n",
    "test_w2v_embed = w2v_embeddings[test_inx, ]\n",
    "test_w2v_token = w2v_tokens[test_inx]"
   ]
  },
  {
   "cell_type": "code",
   "execution_count": 10,
   "metadata": {},
   "outputs": [
    {
     "name": "stdout",
     "output_type": "stream",
     "text": [
      "(12000, 1000) (12000,) (3000, 1000) (3000,)\n"
     ]
    },
    {
     "data": {
      "text/plain": [
       "((12000, 300), (12000,), (3000, 300), (3000,))"
      ]
     },
     "execution_count": 10,
     "metadata": {},
     "output_type": "execute_result"
    }
   ],
   "source": [
    "print(train_word_embed.shape, train_word_token.shape, test_word_embed.shape, test_word_token.shape)\n",
    "train_w2v_embed.shape, train_w2v_token.shape, test_w2v_embed.shape, test_w2v_token.shape"
   ]
  },
  {
   "cell_type": "markdown",
   "metadata": {},
   "source": [
    "#### Reshaping\n",
    "We have to do two things here:\n",
    "\n",
    "*1: Properly represent the pixel information contained in **X** to a fully-connected feed forward neural network*\n",
    "\n",
    "I'm planning on using a fully-connected (dense) layer to look at the MNIST pixel information because 784 pixels (28x28) isn't really that big. We could alternatively do some convolution and retain the information involved in the spatial distribution of the pixels, but in this notebook we'll stick with fully-connected layers. First we'll convert the matrices to 32-bit floating point values and normalize. Then we'll reshape the matrices to make them flat vector respresentations of the 784 pixel values."
   ]
  },
  {
   "cell_type": "code",
   "execution_count": 11,
   "metadata": {},
   "outputs": [],
   "source": [
    "X_train = X_train.astype('float32') / 255.\n",
    "X_test = X_test.astype('float32') / 255.\n",
    "\n",
    "n_pixels = np.prod(X_train.shape[1:])\n",
    "X_train = X_train.reshape((len(X_train), n_pixels))\n",
    "X_test = X_test.reshape((len(X_test), n_pixels))"
   ]
  },
  {
   "cell_type": "markdown",
   "metadata": {},
   "source": [
    "*2: Properly represent the label **y***\n",
    "\n",
    "Encoding the class labels of **y** as the integers they represent makes intuitive sense, but the common loss functions for classification ine keras use cross-entropy and expect one-hot encoded vectors (of dimension *K-1*, where *K* is your number of classes) for class labels rather than just a 1d vector of class names. Luckily, Keras has a built-in utility function to one-hot encode classes."
   ]
  },
  {
   "cell_type": "markdown",
   "metadata": {},
   "source": [
    "## Using wordnet topics as the y (conditions)"
   ]
  },
  {
   "cell_type": "code",
   "execution_count": 53,
   "metadata": {},
   "outputs": [
    {
     "data": {
      "text/plain": [
       "15000"
      ]
     },
     "execution_count": 53,
     "metadata": {},
     "output_type": "execute_result"
    }
   ],
   "source": [
    "len(wordnet_conditioning.keys())"
   ]
  },
  {
   "cell_type": "code",
   "execution_count": 31,
   "metadata": {},
   "outputs": [],
   "source": [
    "import pickle\n",
    "wordnet_conditioning = pickle.load(open(\"../../data/processed/wordnet/one-hot-categories-spine-word2vec.p\", \"rb\" ) )\n",
    "# embedding_label_topic = pickle.load(open(\"../../data/processed/SPINE_word2vec_categories_list.p\", \"rb\" ) )"
   ]
  },
  {
   "cell_type": "code",
   "execution_count": 33,
   "metadata": {},
   "outputs": [],
   "source": [
    "wordnet_cond_label = pickle.load(open(\"../../data/processed/wordnet/category_labels.p\", \"rb\" ) )\n"
   ]
  },
  {
   "cell_type": "code",
   "execution_count": 39,
   "metadata": {},
   "outputs": [],
   "source": [
    "train_wordnet_cond_matrix = []\n",
    "for word in train_word_token:\n",
    "    train_wordnet_cond_matrix.append(wordnet_conditioning[word])\n",
    "train_wordnet_cond_matrix = np.array(train_wordnet_cond_matrix)"
   ]
  },
  {
   "cell_type": "code",
   "execution_count": 47,
   "metadata": {},
   "outputs": [],
   "source": [
    "train_wordnet_cond_matrix_df = pd.DataFrame(train_wordnet_cond_matrix)\n",
    "train_wordnet_cond_matrix_df.columns = wordnet_cond_label\n",
    "train_wordnet_cond_matrix_df.index = train_word_token"
   ]
  },
  {
   "cell_type": "code",
   "execution_count": 54,
   "metadata": {},
   "outputs": [],
   "source": [
    "## test set\n",
    "test_wordnet_cond_matrix = []\n",
    "for word in test_word_token:\n",
    "    test_wordnet_cond_matrix.append(wordnet_conditioning[word])\n",
    "test_wordnet_cond_matrix = np.array(test_wordnet_cond_matrix)\n",
    "\n",
    "test_wordnet_cond_matrix_df = pd.DataFrame(test_wordnet_cond_matrix)\n",
    "test_wordnet_cond_matrix_df.columns = wordnet_cond_label\n",
    "test_wordnet_cond_matrix_df.index = test_word_token"
   ]
  },
  {
   "cell_type": "code",
   "execution_count": 48,
   "metadata": {},
   "outputs": [
    {
     "data": {
      "text/html": [
       "<div>\n",
       "<style scoped>\n",
       "    .dataframe tbody tr th:only-of-type {\n",
       "        vertical-align: middle;\n",
       "    }\n",
       "\n",
       "    .dataframe tbody tr th {\n",
       "        vertical-align: top;\n",
       "    }\n",
       "\n",
       "    .dataframe thead th {\n",
       "        text-align: right;\n",
       "    }\n",
       "</style>\n",
       "<table border=\"1\" class=\"dataframe\">\n",
       "  <thead>\n",
       "    <tr style=\"text-align: right;\">\n",
       "      <th></th>\n",
       "      <th>acoustics</th>\n",
       "      <th>administration</th>\n",
       "      <th>agriculture</th>\n",
       "      <th>anatomy</th>\n",
       "      <th>animal_husbandry</th>\n",
       "      <th>animals</th>\n",
       "      <th>anthropology</th>\n",
       "      <th>applied_science</th>\n",
       "      <th>archaeology</th>\n",
       "      <th>archery</th>\n",
       "      <th>...</th>\n",
       "      <th>time_period</th>\n",
       "      <th>topography</th>\n",
       "      <th>tourism</th>\n",
       "      <th>town_planning</th>\n",
       "      <th>transport</th>\n",
       "      <th>university</th>\n",
       "      <th>vehicles</th>\n",
       "      <th>veterinary</th>\n",
       "      <th>volleyball</th>\n",
       "      <th>wrestling</th>\n",
       "    </tr>\n",
       "  </thead>\n",
       "  <tbody>\n",
       "    <tr>\n",
       "      <th>framework</th>\n",
       "      <td>0</td>\n",
       "      <td>0</td>\n",
       "      <td>0</td>\n",
       "      <td>0</td>\n",
       "      <td>0</td>\n",
       "      <td>0</td>\n",
       "      <td>0</td>\n",
       "      <td>0</td>\n",
       "      <td>0</td>\n",
       "      <td>0</td>\n",
       "      <td>...</td>\n",
       "      <td>0</td>\n",
       "      <td>0</td>\n",
       "      <td>0</td>\n",
       "      <td>0</td>\n",
       "      <td>0</td>\n",
       "      <td>0</td>\n",
       "      <td>0</td>\n",
       "      <td>0</td>\n",
       "      <td>0</td>\n",
       "      <td>0</td>\n",
       "    </tr>\n",
       "    <tr>\n",
       "      <th>dancing</th>\n",
       "      <td>0</td>\n",
       "      <td>0</td>\n",
       "      <td>0</td>\n",
       "      <td>0</td>\n",
       "      <td>0</td>\n",
       "      <td>0</td>\n",
       "      <td>0</td>\n",
       "      <td>0</td>\n",
       "      <td>0</td>\n",
       "      <td>0</td>\n",
       "      <td>...</td>\n",
       "      <td>0</td>\n",
       "      <td>0</td>\n",
       "      <td>0</td>\n",
       "      <td>0</td>\n",
       "      <td>0</td>\n",
       "      <td>0</td>\n",
       "      <td>0</td>\n",
       "      <td>0</td>\n",
       "      <td>0</td>\n",
       "      <td>0</td>\n",
       "    </tr>\n",
       "    <tr>\n",
       "      <th>needy</th>\n",
       "      <td>0</td>\n",
       "      <td>0</td>\n",
       "      <td>0</td>\n",
       "      <td>0</td>\n",
       "      <td>0</td>\n",
       "      <td>0</td>\n",
       "      <td>0</td>\n",
       "      <td>0</td>\n",
       "      <td>0</td>\n",
       "      <td>0</td>\n",
       "      <td>...</td>\n",
       "      <td>0</td>\n",
       "      <td>0</td>\n",
       "      <td>0</td>\n",
       "      <td>0</td>\n",
       "      <td>0</td>\n",
       "      <td>0</td>\n",
       "      <td>0</td>\n",
       "      <td>0</td>\n",
       "      <td>0</td>\n",
       "      <td>0</td>\n",
       "    </tr>\n",
       "    <tr>\n",
       "      <th>algae</th>\n",
       "      <td>0</td>\n",
       "      <td>0</td>\n",
       "      <td>0</td>\n",
       "      <td>0</td>\n",
       "      <td>0</td>\n",
       "      <td>0</td>\n",
       "      <td>0</td>\n",
       "      <td>0</td>\n",
       "      <td>0</td>\n",
       "      <td>0</td>\n",
       "      <td>...</td>\n",
       "      <td>0</td>\n",
       "      <td>0</td>\n",
       "      <td>0</td>\n",
       "      <td>0</td>\n",
       "      <td>0</td>\n",
       "      <td>0</td>\n",
       "      <td>0</td>\n",
       "      <td>0</td>\n",
       "      <td>0</td>\n",
       "      <td>0</td>\n",
       "    </tr>\n",
       "    <tr>\n",
       "      <th>missions</th>\n",
       "      <td>0</td>\n",
       "      <td>0</td>\n",
       "      <td>0</td>\n",
       "      <td>0</td>\n",
       "      <td>0</td>\n",
       "      <td>0</td>\n",
       "      <td>0</td>\n",
       "      <td>0</td>\n",
       "      <td>0</td>\n",
       "      <td>0</td>\n",
       "      <td>...</td>\n",
       "      <td>0</td>\n",
       "      <td>0</td>\n",
       "      <td>0</td>\n",
       "      <td>0</td>\n",
       "      <td>0</td>\n",
       "      <td>0</td>\n",
       "      <td>0</td>\n",
       "      <td>0</td>\n",
       "      <td>0</td>\n",
       "      <td>0</td>\n",
       "    </tr>\n",
       "  </tbody>\n",
       "</table>\n",
       "<p>5 rows × 169 columns</p>\n",
       "</div>"
      ],
      "text/plain": [
       "           acoustics  administration  agriculture  anatomy  animal_husbandry  \\\n",
       "framework          0               0            0        0                 0   \n",
       "dancing            0               0            0        0                 0   \n",
       "needy              0               0            0        0                 0   \n",
       "algae              0               0            0        0                 0   \n",
       "missions           0               0            0        0                 0   \n",
       "\n",
       "           animals  anthropology  applied_science  archaeology  archery  \\\n",
       "framework        0             0                0            0        0   \n",
       "dancing          0             0                0            0        0   \n",
       "needy            0             0                0            0        0   \n",
       "algae            0             0                0            0        0   \n",
       "missions         0             0                0            0        0   \n",
       "\n",
       "             ...      time_period  topography  tourism  town_planning  \\\n",
       "framework    ...                0           0        0              0   \n",
       "dancing      ...                0           0        0              0   \n",
       "needy        ...                0           0        0              0   \n",
       "algae        ...                0           0        0              0   \n",
       "missions     ...                0           0        0              0   \n",
       "\n",
       "           transport  university  vehicles  veterinary  volleyball  wrestling  \n",
       "framework          0           0         0           0           0          0  \n",
       "dancing            0           0         0           0           0          0  \n",
       "needy              0           0         0           0           0          0  \n",
       "algae              0           0         0           0           0          0  \n",
       "missions           0           0         0           0           0          0  \n",
       "\n",
       "[5 rows x 169 columns]"
      ]
     },
     "execution_count": 48,
     "metadata": {},
     "output_type": "execute_result"
    }
   ],
   "source": [
    "train_wordnet_cond_matrix_df.head()"
   ]
  },
  {
   "cell_type": "code",
   "execution_count": 56,
   "metadata": {},
   "outputs": [
    {
     "data": {
      "text/html": [
       "<div>\n",
       "<style scoped>\n",
       "    .dataframe tbody tr th:only-of-type {\n",
       "        vertical-align: middle;\n",
       "    }\n",
       "\n",
       "    .dataframe tbody tr th {\n",
       "        vertical-align: top;\n",
       "    }\n",
       "\n",
       "    .dataframe thead th {\n",
       "        text-align: right;\n",
       "    }\n",
       "</style>\n",
       "<table border=\"1\" class=\"dataframe\">\n",
       "  <thead>\n",
       "    <tr style=\"text-align: right;\">\n",
       "      <th></th>\n",
       "      <th>acoustics</th>\n",
       "      <th>administration</th>\n",
       "      <th>agriculture</th>\n",
       "      <th>anatomy</th>\n",
       "      <th>animal_husbandry</th>\n",
       "      <th>animals</th>\n",
       "      <th>anthropology</th>\n",
       "      <th>applied_science</th>\n",
       "      <th>archaeology</th>\n",
       "      <th>archery</th>\n",
       "      <th>...</th>\n",
       "      <th>time_period</th>\n",
       "      <th>topography</th>\n",
       "      <th>tourism</th>\n",
       "      <th>town_planning</th>\n",
       "      <th>transport</th>\n",
       "      <th>university</th>\n",
       "      <th>vehicles</th>\n",
       "      <th>veterinary</th>\n",
       "      <th>volleyball</th>\n",
       "      <th>wrestling</th>\n",
       "    </tr>\n",
       "  </thead>\n",
       "  <tbody>\n",
       "    <tr>\n",
       "      <th>writings</th>\n",
       "      <td>0</td>\n",
       "      <td>0</td>\n",
       "      <td>0</td>\n",
       "      <td>0</td>\n",
       "      <td>0</td>\n",
       "      <td>0</td>\n",
       "      <td>0</td>\n",
       "      <td>0</td>\n",
       "      <td>0</td>\n",
       "      <td>0</td>\n",
       "      <td>...</td>\n",
       "      <td>0</td>\n",
       "      <td>0</td>\n",
       "      <td>0</td>\n",
       "      <td>0</td>\n",
       "      <td>0</td>\n",
       "      <td>0</td>\n",
       "      <td>0</td>\n",
       "      <td>0</td>\n",
       "      <td>0</td>\n",
       "      <td>0</td>\n",
       "    </tr>\n",
       "    <tr>\n",
       "      <th>yellow</th>\n",
       "      <td>0</td>\n",
       "      <td>0</td>\n",
       "      <td>0</td>\n",
       "      <td>0</td>\n",
       "      <td>0</td>\n",
       "      <td>0</td>\n",
       "      <td>0</td>\n",
       "      <td>0</td>\n",
       "      <td>0</td>\n",
       "      <td>0</td>\n",
       "      <td>...</td>\n",
       "      <td>0</td>\n",
       "      <td>0</td>\n",
       "      <td>0</td>\n",
       "      <td>0</td>\n",
       "      <td>0</td>\n",
       "      <td>0</td>\n",
       "      <td>0</td>\n",
       "      <td>0</td>\n",
       "      <td>0</td>\n",
       "      <td>0</td>\n",
       "    </tr>\n",
       "    <tr>\n",
       "      <th>gag</th>\n",
       "      <td>0</td>\n",
       "      <td>0</td>\n",
       "      <td>0</td>\n",
       "      <td>0</td>\n",
       "      <td>0</td>\n",
       "      <td>0</td>\n",
       "      <td>0</td>\n",
       "      <td>0</td>\n",
       "      <td>0</td>\n",
       "      <td>0</td>\n",
       "      <td>...</td>\n",
       "      <td>0</td>\n",
       "      <td>0</td>\n",
       "      <td>0</td>\n",
       "      <td>0</td>\n",
       "      <td>0</td>\n",
       "      <td>0</td>\n",
       "      <td>0</td>\n",
       "      <td>0</td>\n",
       "      <td>0</td>\n",
       "      <td>0</td>\n",
       "    </tr>\n",
       "    <tr>\n",
       "      <th>prefix</th>\n",
       "      <td>0</td>\n",
       "      <td>0</td>\n",
       "      <td>0</td>\n",
       "      <td>0</td>\n",
       "      <td>0</td>\n",
       "      <td>0</td>\n",
       "      <td>0</td>\n",
       "      <td>0</td>\n",
       "      <td>0</td>\n",
       "      <td>0</td>\n",
       "      <td>...</td>\n",
       "      <td>0</td>\n",
       "      <td>0</td>\n",
       "      <td>0</td>\n",
       "      <td>0</td>\n",
       "      <td>0</td>\n",
       "      <td>0</td>\n",
       "      <td>0</td>\n",
       "      <td>0</td>\n",
       "      <td>0</td>\n",
       "      <td>0</td>\n",
       "    </tr>\n",
       "    <tr>\n",
       "      <th>delight</th>\n",
       "      <td>0</td>\n",
       "      <td>0</td>\n",
       "      <td>0</td>\n",
       "      <td>0</td>\n",
       "      <td>0</td>\n",
       "      <td>0</td>\n",
       "      <td>0</td>\n",
       "      <td>0</td>\n",
       "      <td>0</td>\n",
       "      <td>0</td>\n",
       "      <td>...</td>\n",
       "      <td>0</td>\n",
       "      <td>0</td>\n",
       "      <td>0</td>\n",
       "      <td>0</td>\n",
       "      <td>0</td>\n",
       "      <td>0</td>\n",
       "      <td>0</td>\n",
       "      <td>0</td>\n",
       "      <td>0</td>\n",
       "      <td>0</td>\n",
       "    </tr>\n",
       "  </tbody>\n",
       "</table>\n",
       "<p>5 rows × 169 columns</p>\n",
       "</div>"
      ],
      "text/plain": [
       "          acoustics  administration  agriculture  anatomy  animal_husbandry  \\\n",
       "writings          0               0            0        0                 0   \n",
       "yellow            0               0            0        0                 0   \n",
       "gag               0               0            0        0                 0   \n",
       "prefix            0               0            0        0                 0   \n",
       "delight           0               0            0        0                 0   \n",
       "\n",
       "          animals  anthropology  applied_science  archaeology  archery  \\\n",
       "writings        0             0                0            0        0   \n",
       "yellow          0             0                0            0        0   \n",
       "gag             0             0                0            0        0   \n",
       "prefix          0             0                0            0        0   \n",
       "delight         0             0                0            0        0   \n",
       "\n",
       "            ...      time_period  topography  tourism  town_planning  \\\n",
       "writings    ...                0           0        0              0   \n",
       "yellow      ...                0           0        0              0   \n",
       "gag         ...                0           0        0              0   \n",
       "prefix      ...                0           0        0              0   \n",
       "delight     ...                0           0        0              0   \n",
       "\n",
       "          transport  university  vehicles  veterinary  volleyball  wrestling  \n",
       "writings          0           0         0           0           0          0  \n",
       "yellow            0           0         0           0           0          0  \n",
       "gag               0           0         0           0           0          0  \n",
       "prefix            0           0         0           0           0          0  \n",
       "delight           0           0         0           0           0          0  \n",
       "\n",
       "[5 rows x 169 columns]"
      ]
     },
     "execution_count": 56,
     "metadata": {},
     "output_type": "execute_result"
    }
   ],
   "source": [
    "test_wordnet_cond_matrix_df.head()"
   ]
  },
  {
   "cell_type": "code",
   "execution_count": 55,
   "metadata": {},
   "outputs": [
    {
     "data": {
      "text/plain": [
       "((12000, 169), (3000, 169))"
      ]
     },
     "execution_count": 55,
     "metadata": {},
     "output_type": "execute_result"
    }
   ],
   "source": [
    "train_wordnet_cond_matrix_df.shape, test_wordnet_cond_matrix_df.shape"
   ]
  },
  {
   "cell_type": "code",
   "execution_count": 35,
   "metadata": {},
   "outputs": [
    {
     "data": {
      "text/plain": [
       "169"
      ]
     },
     "execution_count": 35,
     "metadata": {},
     "output_type": "execute_result"
    }
   ],
   "source": [
    "len(wordnet_cond_label)"
   ]
  },
  {
   "cell_type": "markdown",
   "metadata": {},
   "source": [
    "#### Hyperparameters\n",
    "Assign the type of optimizer, batch size, latent-space represeentation size, and number of epochs. We'll also save the widths of the **X** and **Y** matrices for convenience in referencing them further on."
   ]
  },
  {
   "cell_type": "code",
   "execution_count": 79,
   "metadata": {},
   "outputs": [],
   "source": [
    "m = 30 # batch size\n",
    "n_z = 75 # latent space size\n",
    "encoder_dim1 = 128 # dim of encoder hidden layer\n",
    "decoder_dim = 128 # dim of decoder hidden layer\n",
    "decoder_out_dim = train_w2v_embed.shape[1] # dim of decoder output layer\n",
    "activ = 'relu'\n",
    "optim = Adam(lr=0.001)\n",
    "\n",
    "\n",
    "n_x = train_w2v_embed.shape[1]\n",
    "n_y = train_wordnet_cond_matrix_df.shape[1]\n",
    "\n",
    "\n",
    "n_epoch = 50"
   ]
  },
  {
   "cell_type": "markdown",
   "metadata": {},
   "source": [
    "### The encoder\n",
    "We'll be using the Keras functional API rather than the sequential because of the slightly more complex structure of the VAE. First we'll explicitly define input layers for **X** and **y**. Keras needs to know their shapes at the input layer, but can infer them later on."
   ]
  },
  {
   "cell_type": "code",
   "execution_count": 80,
   "metadata": {},
   "outputs": [],
   "source": [
    "X = Input(shape=(n_x,))\n",
    "label = Input(shape=(n_y,))"
   ]
  },
  {
   "cell_type": "markdown",
   "metadata": {},
   "source": [
    "Next we'll concatenate the **X** and **y** vectors. It may appear that it would've been simpler to merge the pixel and class label vectors from the beginning (now that they're both 1d) rather than reading them into the graph as separate input layers and concatenating them... but in reality, we need them to remain separate entities so that we can properly calculate our reconstruction error (we aren't asking the autoencoder to reassemble **y** in addition to **X**)."
   ]
  },
  {
   "cell_type": "code",
   "execution_count": 81,
   "metadata": {},
   "outputs": [],
   "source": [
    "inputs = concat([X, label])"
   ]
  },
  {
   "cell_type": "markdown",
   "metadata": {},
   "source": [
    "Once we've defined our inputs and merged them within the context of the graph, we'll pass them to a dense layer consisting of the previuosly specified number of neurons (512) and activation function (ReLU). That layer is then connected to layers that produce our mean ($\\mu$) and standard deviation ($\\log(\\sigma)$) for the variational sampling that occurs later."
   ]
  },
  {
   "cell_type": "code",
   "execution_count": 82,
   "metadata": {},
   "outputs": [],
   "source": [
    "encoder_h = Dense(encoder_dim1, activation=activ)(inputs)\n",
    "mu = Dense(n_z, activation='linear')(encoder_h)\n",
    "l_sigma = Dense(n_z, activation='linear')(encoder_h)"
   ]
  },
  {
   "cell_type": "code",
   "execution_count": 83,
   "metadata": {},
   "outputs": [
    {
     "data": {
      "text/plain": [
       "TensorShape([Dimension(None), Dimension(75)])"
      ]
     },
     "execution_count": 83,
     "metadata": {},
     "output_type": "execute_result"
    }
   ],
   "source": [
    "mu.shape"
   ]
  },
  {
   "cell_type": "code",
   "execution_count": 84,
   "metadata": {},
   "outputs": [
    {
     "data": {
      "text/plain": [
       "TensorShape([Dimension(None), Dimension(75)])"
      ]
     },
     "execution_count": 84,
     "metadata": {},
     "output_type": "execute_result"
    }
   ],
   "source": [
    "l_sigma.shape"
   ]
  },
  {
   "cell_type": "code",
   "execution_count": 85,
   "metadata": {},
   "outputs": [
    {
     "data": {
      "text/plain": [
       "TensorShape([Dimension(None), Dimension(128)])"
      ]
     },
     "execution_count": 85,
     "metadata": {},
     "output_type": "execute_result"
    }
   ],
   "source": [
    "encoder_h.shape"
   ]
  },
  {
   "cell_type": "markdown",
   "metadata": {},
   "source": [
    "Next we define a function that adds random normal noise to our sampling process, and call it with a `Lamda` layer. This is really the guts of the **variational** part of this type of method, and you should refer to the blog post mentioned above for a good understanding of why this is happening."
   ]
  },
  {
   "cell_type": "code",
   "execution_count": 86,
   "metadata": {},
   "outputs": [],
   "source": [
    "def sample_z(args):\n",
    "    mu, l_sigma = args\n",
    "#     print(mu.s)\n",
    "    eps = K.random_normal(shape=(m, n_z), mean=0., stddev=1.)\n",
    "    return mu + K.exp(l_sigma / 2) * eps\n",
    "\n",
    "\n",
    "# Sampling latent space\n",
    "z = Lambda(sample_z, output_shape = (n_z, ))([mu, l_sigma])"
   ]
  },
  {
   "cell_type": "code",
   "execution_count": 87,
   "metadata": {},
   "outputs": [
    {
     "data": {
      "text/plain": [
       "30"
      ]
     },
     "execution_count": 87,
     "metadata": {},
     "output_type": "execute_result"
    }
   ],
   "source": [
    "m"
   ]
  },
  {
   "cell_type": "markdown",
   "metadata": {},
   "source": [
    "### The latent space\n",
    "Now that we've built our encoder and defined our sampling function, our latent space (**z**) is easy to define.\n",
    "\n",
    "First, using our `sample_z` function, we generate a vector of length `n_z` (in this case 2). If this were a normal VAE we could stop here and move on to the decoder, but instead we are going to concatenate our latent **z** respresentation with the same sparse **y** vector that we initially merged to our pixel representation **X** in the input layers. This gives us a 1x12 vector with 3 non-zero values as we move from the latent space to the decoder.\n"
   ]
  },
  {
   "cell_type": "code",
   "execution_count": 88,
   "metadata": {},
   "outputs": [],
   "source": [
    "z = Lambda(sample_z, output_shape = (n_z, ))([mu, l_sigma])\n",
    "\n",
    "# merge latent space with label\n",
    "zc = concat([z, label])"
   ]
  },
  {
   "cell_type": "code",
   "execution_count": 89,
   "metadata": {},
   "outputs": [
    {
     "data": {
      "text/plain": [
       "TensorShape([Dimension(30), Dimension(75)])"
      ]
     },
     "execution_count": 89,
     "metadata": {},
     "output_type": "execute_result"
    }
   ],
   "source": [
    "z.shape"
   ]
  },
  {
   "cell_type": "code",
   "execution_count": 90,
   "metadata": {},
   "outputs": [
    {
     "data": {
      "text/plain": [
       "<tf.Tensor 'input_5:0' shape=(?, 169) dtype=float32>"
      ]
     },
     "execution_count": 90,
     "metadata": {},
     "output_type": "execute_result"
    }
   ],
   "source": [
    "label"
   ]
  },
  {
   "cell_type": "code",
   "execution_count": 91,
   "metadata": {},
   "outputs": [
    {
     "data": {
      "text/plain": [
       "TensorShape([Dimension(30), Dimension(244)])"
      ]
     },
     "execution_count": 91,
     "metadata": {},
     "output_type": "execute_result"
    }
   ],
   "source": [
    "zc.shape"
   ]
  },
  {
   "cell_type": "markdown",
   "metadata": {},
   "source": [
    "### Decoder\n",
    "The encoder has hopefully taken the information contained in 784 pixels (plus the class label), and created some vector **z**. The decoding process is the reconstruction from **z** to **X_hat**. Unlike a normal undercomplete autoencoder, we won't stick to a rigid symmetrical funnel-type architecture here. Instead I'll define two dense layers of 512 and 784 neurons that have ReLU and sigmoidal activation functions, respectively."
   ]
  },
  {
   "cell_type": "code",
   "execution_count": 92,
   "metadata": {},
   "outputs": [],
   "source": [
    "decoder_hidden = Dense(decoder_dim, activation=activ)\n",
    "decoder_out = Dense(decoder_out_dim, activation='sigmoid')\n",
    "h_p = decoder_hidden(zc)\n",
    "outputs = decoder_out(h_p)"
   ]
  },
  {
   "cell_type": "markdown",
   "metadata": {},
   "source": [
    "### Defining loss\n",
    "If you're familiar with autoencoders, you probably understand that they are backpropagated using reconstruction loss. This is a measure of error between the input **X** and the decoded output **X_hat**. In VAEs, our loss is the sum of reconstruction error and the kullback-leibler divergence between our $\\mu$ and log-$\\sigma$ and the standard normal.\n",
    "\n",
    "In this notebook I've defined the `vae_loss` function, which we'll use to optimize our model. I've also broken it down into the `KL_loss` and `recon_loss` subcomponents so that we can track these values as metrics during training."
   ]
  },
  {
   "cell_type": "code",
   "execution_count": 93,
   "metadata": {},
   "outputs": [],
   "source": [
    "# def vae_loss(y_true, y_pred):\n",
    "#     recon = K.sum(K.binary_crossentropy(y_true, y_pred), axis=-1)\n",
    "#     kl = 0.5 * K.sum(K.exp(l_sigma) + K.square(mu) - 1. - l_sigma, axis=-1)\n",
    "#     return recon + kl\n",
    "\n",
    "def vae_loss(x, x_decoded_mean):\n",
    "    \"\"\"Defines the VAE loss functions as a combination of MSE and KL-divergence loss.\"\"\"\n",
    "    # -ELBO = MSE + KL\n",
    "    mse_loss = K.mean(keras.losses.mse(x, x_decoded_mean), axis=-1)\n",
    "    kl_loss = - 0.5 * K.mean(1 + l_sigma - K.square(mu) - K.exp(l_sigma), axis=-1)\n",
    "    return mse_loss + kl_loss\n",
    "    \n",
    "# def KL_loss(y_true, y_pred):\n",
    "# \treturn(0.5 * K.sum(K.exp(l_sigma) + K.square(mu) - 1. - l_sigma, axis=1))\n",
    "\n",
    "# def recon_loss(y_true, y_pred):\n",
    "# \treturn K.sum(K.binary_crossentropy(y_true, y_pred), axis=-1)"
   ]
  },
  {
   "cell_type": "markdown",
   "metadata": {},
   "source": [
    "### Defining the graphs\n",
    "First, we can create networks of from the Keras `Model` class by defining the inputs and outputs of our conditional variational autoencoder, as well as the encoder/decoder subcomponents. "
   ]
  },
  {
   "cell_type": "code",
   "execution_count": 94,
   "metadata": {},
   "outputs": [],
   "source": [
    "cvae = Model([X, label], outputs)\n",
    "encoder = Model([X, label], mu)\n",
    "\n",
    "d_in = Input(shape=(n_z+n_y,))\n",
    "d_h = decoder_hidden(d_in)\n",
    "d_out = decoder_out(d_h)\n",
    "decoder = Model(d_in, d_out)"
   ]
  },
  {
   "cell_type": "markdown",
   "metadata": {},
   "source": [
    "### Training\n",
    "We train the model as a whole, using the `compile` and `fit` methods for the `cvae` object. We'll use the optimizer that we defined previously, our custom `vae_loss`, and we'll also pass the `KL_loss` and `recon_loss` to the `metrics` argument so that they'll be tracked by batch.\n",
    "\n",
    "For the `fit` method we pass a list of inputs, validation data, the number of epochs, and a callback that stops the model early if validation loss hasn't improved in the past 5 epochs."
   ]
  },
  {
   "cell_type": "code",
   "execution_count": 95,
   "metadata": {
    "scrolled": true
   },
   "outputs": [],
   "source": [
    "cvae.compile(optimizer=optim, loss=vae_loss)"
   ]
  },
  {
   "cell_type": "code",
   "execution_count": 96,
   "metadata": {},
   "outputs": [],
   "source": [
    "# cvae.compile(optimizer=optim, loss=KL_loss)"
   ]
  },
  {
   "cell_type": "code",
   "execution_count": 97,
   "metadata": {},
   "outputs": [
    {
     "name": "stdout",
     "output_type": "stream",
     "text": [
      "(12000, 1000) (12000,) (3000, 1000) (3000,)\n"
     ]
    },
    {
     "data": {
      "text/plain": [
       "((12000, 300), (12000,), (3000, 300), (3000,))"
      ]
     },
     "execution_count": 97,
     "metadata": {},
     "output_type": "execute_result"
    }
   ],
   "source": [
    "print(train_word_embed.shape, train_word_token.shape, test_word_embed.shape, test_word_token.shape)\n",
    "train_w2v_embed.shape, train_w2v_token.shape, test_w2v_embed.shape, test_w2v_token.shape"
   ]
  },
  {
   "cell_type": "code",
   "execution_count": 98,
   "metadata": {},
   "outputs": [
    {
     "name": "stdout",
     "output_type": "stream",
     "text": [
      "__________________________________________________________________________________________________\n",
      "Layer (type)                    Output Shape         Param #     Connected to                     \n",
      "==================================================================================================\n",
      "input_4 (InputLayer)            (None, 300)          0                                            \n",
      "__________________________________________________________________________________________________\n",
      "input_5 (InputLayer)            (None, 169)          0                                            \n",
      "__________________________________________________________________________________________________\n",
      "concatenate_3 (Concatenate)     (None, 469)          0           input_4[0][0]                    \n",
      "                                                                 input_5[0][0]                    \n",
      "__________________________________________________________________________________________________\n",
      "dense_6 (Dense)                 (None, 128)          60160       concatenate_3[0][0]              \n",
      "__________________________________________________________________________________________________\n",
      "dense_7 (Dense)                 (None, 75)           9675        dense_6[0][0]                    \n",
      "__________________________________________________________________________________________________\n",
      "dense_8 (Dense)                 (None, 75)           9675        dense_6[0][0]                    \n",
      "__________________________________________________________________________________________________\n",
      "lambda_4 (Lambda)               (None, 75)           0           dense_7[0][0]                    \n",
      "                                                                 dense_8[0][0]                    \n",
      "__________________________________________________________________________________________________\n",
      "concatenate_4 (Concatenate)     (None, 244)          0           lambda_4[0][0]                   \n",
      "                                                                 input_5[0][0]                    \n",
      "__________________________________________________________________________________________________\n",
      "dense_9 (Dense)                 (None, 128)          31360       concatenate_4[0][0]              \n",
      "__________________________________________________________________________________________________\n",
      "dense_10 (Dense)                (None, 300)          38700       dense_9[0][0]                    \n",
      "==================================================================================================\n",
      "Total params: 149,570\n",
      "Trainable params: 149,570\n",
      "Non-trainable params: 0\n",
      "__________________________________________________________________________________________________\n"
     ]
    }
   ],
   "source": [
    "cvae.summary()"
   ]
  },
  {
   "cell_type": "code",
   "execution_count": null,
   "metadata": {},
   "outputs": [],
   "source": []
  },
  {
   "cell_type": "code",
   "execution_count": 99,
   "metadata": {
    "scrolled": true
   },
   "outputs": [
    {
     "name": "stdout",
     "output_type": "stream",
     "text": [
      "Train on 12000 samples, validate on 3000 samples\n",
      "Epoch 1/50\n",
      "12000/12000 [==============================] - 2s 166us/step - loss: 0.0481 - val_loss: 0.0308\n",
      "Epoch 2/50\n",
      "12000/12000 [==============================] - 1s 107us/step - loss: 0.0305 - val_loss: 0.0304\n",
      "Epoch 3/50\n",
      "12000/12000 [==============================] - 1s 124us/step - loss: 0.0303 - val_loss: 0.0303\n",
      "Epoch 4/50\n",
      "12000/12000 [==============================] - 1s 106us/step - loss: 0.0302 - val_loss: 0.0302\n",
      "Epoch 5/50\n",
      "12000/12000 [==============================] - 1s 114us/step - loss: 0.0301 - val_loss: 0.0302\n",
      "Epoch 6/50\n",
      "12000/12000 [==============================] - 2s 145us/step - loss: 0.0301 - val_loss: 0.0301\n",
      "Epoch 7/50\n",
      "12000/12000 [==============================] - 1s 125us/step - loss: 0.0301 - val_loss: 0.0301\n",
      "Epoch 8/50\n",
      "12000/12000 [==============================] - 2s 131us/step - loss: 0.0300 - val_loss: 0.0300\n",
      "Epoch 9/50\n",
      "12000/12000 [==============================] - 2s 133us/step - loss: 0.0300 - val_loss: 0.0300\n",
      "Epoch 10/50\n",
      "12000/12000 [==============================] - 1s 124us/step - loss: 0.0299 - val_loss: 0.0300\n",
      "Epoch 11/50\n",
      "12000/12000 [==============================] - 2s 131us/step - loss: 0.0299 - val_loss: 0.0299\n",
      "Epoch 12/50\n",
      "12000/12000 [==============================] - 2s 131us/step - loss: 0.0299 - val_loss: 0.0299\n",
      "Epoch 13/50\n",
      "12000/12000 [==============================] - 2s 126us/step - loss: 0.0298 - val_loss: 0.0299\n",
      "Epoch 14/50\n",
      "12000/12000 [==============================] - 2s 128us/step - loss: 0.0298 - val_loss: 0.0298\n",
      "Epoch 15/50\n",
      "12000/12000 [==============================] - 2s 149us/step - loss: 0.0298 - val_loss: 0.0298\n",
      "Epoch 16/50\n",
      "12000/12000 [==============================] - 2s 130us/step - loss: 0.0297 - val_loss: 0.0297\n",
      "Epoch 17/50\n",
      "12000/12000 [==============================] - 2s 126us/step - loss: 0.0297 - val_loss: 0.0297\n",
      "Epoch 18/50\n",
      "12000/12000 [==============================] - 2s 138us/step - loss: 0.0296 - val_loss: 0.0297\n",
      "Epoch 19/50\n",
      "12000/12000 [==============================] - 1s 109us/step - loss: 0.0296 - val_loss: 0.0297\n",
      "Epoch 20/50\n",
      "12000/12000 [==============================] - 1s 108us/step - loss: 0.0296 - val_loss: 0.0296\n",
      "Epoch 21/50\n",
      "12000/12000 [==============================] - 1s 116us/step - loss: 0.0296 - val_loss: 0.0296\n",
      "Epoch 22/50\n",
      "12000/12000 [==============================] - 1s 105us/step - loss: 0.0295 - val_loss: 0.0296\n",
      "Epoch 23/50\n",
      "12000/12000 [==============================] - 2s 128us/step - loss: 0.0295 - val_loss: 0.0296\n",
      "Epoch 24/50\n",
      "12000/12000 [==============================] - 2s 130us/step - loss: 0.0295 - val_loss: 0.0295\n",
      "Epoch 25/50\n",
      "12000/12000 [==============================] - 2s 132us/step - loss: 0.0295 - val_loss: 0.0295\n",
      "Epoch 26/50\n",
      "12000/12000 [==============================] - 2s 139us/step - loss: 0.0294 - val_loss: 0.0295\n",
      "Epoch 27/50\n",
      "12000/12000 [==============================] - 2s 126us/step - loss: 0.0294 - val_loss: 0.0295\n",
      "Epoch 28/50\n",
      "12000/12000 [==============================] - 2s 126us/step - loss: 0.0294 - val_loss: 0.0295\n",
      "Epoch 29/50\n",
      "12000/12000 [==============================] - 1s 120us/step - loss: 0.0294 - val_loss: 0.0295\n",
      "Epoch 30/50\n",
      "12000/12000 [==============================] - 1s 106us/step - loss: 0.0294 - val_loss: 0.0295\n",
      "Epoch 31/50\n",
      "12000/12000 [==============================] - 1s 108us/step - loss: 0.0294 - val_loss: 0.0295\n",
      "Epoch 32/50\n",
      "12000/12000 [==============================] - 2s 129us/step - loss: 0.0294 - val_loss: 0.0294\n",
      "Epoch 33/50\n",
      "12000/12000 [==============================] - 1s 123us/step - loss: 0.0294 - val_loss: 0.0294\n",
      "Epoch 34/50\n",
      "12000/12000 [==============================] - 1s 97us/step - loss: 0.0293 - val_loss: 0.0295\n",
      "Epoch 35/50\n",
      "12000/12000 [==============================] - 1s 109us/step - loss: 0.0293 - val_loss: 0.0294\n",
      "Epoch 36/50\n",
      "12000/12000 [==============================] - 1s 105us/step - loss: 0.0293 - val_loss: 0.0294\n",
      "Epoch 37/50\n",
      "12000/12000 [==============================] - 1s 100us/step - loss: 0.0293 - val_loss: 0.0294\n",
      "Epoch 38/50\n",
      "12000/12000 [==============================] - 1s 103us/step - loss: 0.0293 - val_loss: 0.0294\n",
      "Epoch 39/50\n",
      "12000/12000 [==============================] - 1s 101us/step - loss: 0.0293 - val_loss: 0.0294\n",
      "Epoch 40/50\n",
      "12000/12000 [==============================] - 1s 100us/step - loss: 0.0293 - val_loss: 0.0294\n",
      "Epoch 41/50\n",
      "12000/12000 [==============================] - 1s 102us/step - loss: 0.0293 - val_loss: 0.0294\n",
      "Epoch 42/50\n",
      "12000/12000 [==============================] - 1s 102us/step - loss: 0.0293 - val_loss: 0.0294\n",
      "Epoch 43/50\n",
      "12000/12000 [==============================] - 1s 102us/step - loss: 0.0293 - val_loss: 0.0294\n",
      "Epoch 44/50\n",
      "12000/12000 [==============================] - 1s 107us/step - loss: 0.0293 - val_loss: 0.0294\n",
      "Epoch 45/50\n",
      "12000/12000 [==============================] - 1s 121us/step - loss: 0.0293 - val_loss: 0.0294\n",
      "Epoch 46/50\n",
      "12000/12000 [==============================] - 2s 126us/step - loss: 0.0293 - val_loss: 0.0294\n",
      "Epoch 47/50\n",
      "12000/12000 [==============================] - 1s 122us/step - loss: 0.0292 - val_loss: 0.0294\n",
      "Epoch 48/50\n",
      "12000/12000 [==============================] - 2s 139us/step - loss: 0.0292 - val_loss: 0.0294\n",
      "Epoch 49/50\n",
      "12000/12000 [==============================] - 1s 102us/step - loss: 0.0292 - val_loss: 0.0294\n",
      "Epoch 50/50\n",
      "12000/12000 [==============================] - 1s 103us/step - loss: 0.0292 - val_loss: 0.0294\n"
     ]
    }
   ],
   "source": [
    "# compile and fit\n",
    "cvae_hist = cvae.fit([train_w2v_embed, train_wordnet_cond_matrix_df], train_w2v_embed, verbose = 1, batch_size=m, \n",
    "                     epochs=n_epoch,\n",
    "                     validation_data = ([test_w2v_embed, test_wordnet_cond_matrix_df], test_w2v_embed),\n",
    "                     callbacks = [EarlyStopping(patience = 5)])"
   ]
  },
  {
   "cell_type": "code",
   "execution_count": 54,
   "metadata": {
    "collapsed": true
   },
   "outputs": [
    {
     "name": "stdout",
     "output_type": "stream",
     "text": [
      "Epoch 1/50\n",
      "12000/12000 [==============================] - 2s 177us/step - loss: 0.0236\n",
      "Epoch 2/50\n",
      "12000/12000 [==============================] - 2s 164us/step - loss: 0.0235\n",
      "Epoch 3/50\n",
      "12000/12000 [==============================] - 2s 163us/step - loss: 0.0235\n",
      "Epoch 4/50\n",
      "12000/12000 [==============================] - 2s 174us/step - loss: 0.0235\n",
      "Epoch 5/50\n",
      "12000/12000 [==============================] - 2s 163us/step - loss: 0.0235 0s - loss: 0 - ETA: 0s - los\n",
      "Epoch 6/50\n",
      "12000/12000 [==============================] - 2s 169us/step - loss: 0.0235\n",
      "Epoch 7/50\n",
      "12000/12000 [==============================] - 2s 162us/step - loss: 0.0235\n",
      "Epoch 8/50\n",
      "12000/12000 [==============================] - 2s 159us/step - loss: 0.0234\n",
      "Epoch 9/50\n",
      "12000/12000 [==============================] - 2s 158us/step - loss: 0.0234\n",
      "Epoch 10/50\n",
      "12000/12000 [==============================] - 2s 154us/step - loss: 0.0234\n",
      "Epoch 11/50\n",
      "12000/12000 [==============================] - 2s 158us/step - loss: 0.0234\n",
      "Epoch 12/50\n",
      "12000/12000 [==============================] - 2s 158us/step - loss: 0.0234 0s - loss: 0.\n",
      "Epoch 13/50\n",
      "12000/12000 [==============================] - 2s 160us/step - loss: 0.0234\n",
      "Epoch 14/50\n",
      "12000/12000 [==============================] - 2s 163us/step - loss: 0.0234\n",
      "Epoch 15/50\n",
      "12000/12000 [==============================] - 2s 158us/step - loss: 0.0233\n",
      "Epoch 16/50\n",
      "12000/12000 [==============================] - 2s 158us/step - loss: 0.0233\n",
      "Epoch 17/50\n",
      "12000/12000 [==============================] - 2s 158us/step - loss: 0.0233\n",
      "Epoch 18/50\n",
      "12000/12000 [==============================] - 2s 161us/step - loss: 0.0233\n",
      "Epoch 19/50\n",
      "12000/12000 [==============================] - 2s 160us/step - loss: 0.0233\n",
      "Epoch 20/50\n",
      "12000/12000 [==============================] - 2s 201us/step - loss: 0.0233\n",
      "Epoch 21/50\n",
      "12000/12000 [==============================] - 2s 189us/step - loss: 0.0233\n",
      "Epoch 22/50\n",
      "12000/12000 [==============================] - 2s 195us/step - loss: 0.0233\n",
      "Epoch 23/50\n",
      "12000/12000 [==============================] - 2s 175us/step - loss: 0.0233\n",
      "Epoch 24/50\n",
      "12000/12000 [==============================] - 2s 199us/step - loss: 0.0233\n",
      "Epoch 25/50\n",
      "12000/12000 [==============================] - 2s 198us/step - loss: 0.0232\n",
      "Epoch 26/50\n",
      "12000/12000 [==============================] - 2s 199us/step - loss: 0.0232\n",
      "Epoch 27/50\n",
      "12000/12000 [==============================] - 2s 187us/step - loss: 0.0232\n",
      "Epoch 28/50\n",
      "12000/12000 [==============================] - 2s 173us/step - loss: 0.0232\n",
      "Epoch 29/50\n",
      "12000/12000 [==============================] - 2s 161us/step - loss: 0.0232\n",
      "Epoch 30/50\n",
      "12000/12000 [==============================] - 2s 159us/step - loss: 0.0232\n",
      "Epoch 31/50\n",
      "12000/12000 [==============================] - 2s 156us/step - loss: 0.0232\n",
      "Epoch 32/50\n",
      "12000/12000 [==============================] - 2s 159us/step - loss: 0.0232\n",
      "Epoch 33/50\n",
      "12000/12000 [==============================] - 2s 173us/step - loss: 0.0232\n",
      "Epoch 34/50\n",
      "12000/12000 [==============================] - 2s 207us/step - loss: 0.0232\n",
      "Epoch 35/50\n",
      "12000/12000 [==============================] - 2s 201us/step - loss: 0.0232\n",
      "Epoch 36/50\n",
      "12000/12000 [==============================] - 2s 206us/step - loss: 0.0232\n",
      "Epoch 37/50\n",
      "12000/12000 [==============================] - 2s 207us/step - loss: 0.0232\n",
      "Epoch 38/50\n",
      "12000/12000 [==============================] - 3s 216us/step - loss: 0.0232\n",
      "Epoch 39/50\n",
      "12000/12000 [==============================] - 2s 186us/step - loss: 0.0232\n",
      "Epoch 40/50\n",
      "12000/12000 [==============================] - 2s 173us/step - loss: 0.0232\n",
      "Epoch 41/50\n",
      "12000/12000 [==============================] - 2s 169us/step - loss: 0.0232\n",
      "Epoch 42/50\n",
      "12000/12000 [==============================] - 2s 191us/step - loss: 0.0232\n",
      "Epoch 43/50\n",
      "12000/12000 [==============================] - 2s 173us/step - loss: 0.0231\n",
      "Epoch 44/50\n",
      "12000/12000 [==============================] - 2s 207us/step - loss: 0.0231\n",
      "Epoch 45/50\n",
      "12000/12000 [==============================] - 2s 193us/step - loss: 0.0231\n",
      "Epoch 46/50\n",
      "12000/12000 [==============================] - 3s 211us/step - loss: 0.0231\n",
      "Epoch 47/50\n",
      "12000/12000 [==============================] - 3s 225us/step - loss: 0.0231\n",
      "Epoch 48/50\n",
      "12000/12000 [==============================] - 3s 222us/step - loss: 0.0231\n",
      "Epoch 49/50\n",
      "12000/12000 [==============================] - 2s 198us/step - loss: 0.0231\n",
      "Epoch 50/50\n",
      "12000/12000 [==============================] - 2s 186us/step - loss: 0.0231\n"
     ]
    }
   ],
   "source": [
    "# compile and fit\n",
    "# cvae_hist = cvae.fit([train_w2v_embed, train_word_embed], train_w2v_embed, verbose = 1, batch_size=m, \n",
    "#                      epochs=n_epoch)"
   ]
  },
  {
   "cell_type": "code",
   "execution_count": 56,
   "metadata": {},
   "outputs": [],
   "source": [
    "# compile and fit\n",
    "# cvae_hist = cvae_orig.fit([X_train, y_train], X_train, verbose = 1, batch_size=m, epochs=n_epoch)"
   ]
  },
  {
   "cell_type": "markdown",
   "metadata": {},
   "source": [
    "**We now have a trained conditional variational autoencoder. Let's see how it works!**"
   ]
  },
  {
   "cell_type": "markdown",
   "metadata": {},
   "source": [
    "### Exploring the model\n",
    "The latent space should hopefully contain some interesting structural information about the digits we're autoencoding. That's the case in any autoencoding network, but in a VAE the spatial arrangement should make more intuitive 'sense' since the noise added to the latent space representation forces the model to create useful respresentations.\n",
    "\n",
    "#### Generating a latent space representation with the encoder\n",
    "First let's see concretely what happens when we pass an image and class to the encoder. We can take a look at the first image in the training set:"
   ]
  },
  {
   "cell_type": "markdown",
   "metadata": {},
   "source": [
    "#### Generating a digit\n",
    "We've now passed images and labels to the encoder and examined the latent space representation. It's clear that the **z** values don't contain useful information about *which* digit is produced... but then what information do they contain?\n",
    "\n",
    "First, let's just generate a digit. We need to pass a vector to our *decoder* containing everything it needs to create a digit from the latent space. The **z** values are distributed normally with mean 0, so the 'default' setting of them is to be 0. We'll append the label to the **z** values, which is just a one-hot encoding to specify which digit we want to create. So if we want to generate a default 3, we'd pass the encoder something like `[0,0,0,0,0,1,0,0,0,0,0,0]`. I'll define a function to make this easier, and then display the outcome for the digit 3."
   ]
  },
  {
   "cell_type": "code",
   "execution_count": 100,
   "metadata": {},
   "outputs": [
    {
     "data": {
      "text/plain": [
       "11730"
      ]
     },
     "execution_count": 100,
     "metadata": {},
     "output_type": "execute_result"
    }
   ],
   "source": [
    "word_inx = np.where(train_w2v_token == 'mathematics')[0][0]\n",
    "word_inx"
   ]
  },
  {
   "cell_type": "code",
   "execution_count": 101,
   "metadata": {
    "scrolled": true
   },
   "outputs": [
    {
     "data": {
      "text/plain": [
       "array([ 0.235352  , -0.0422363 ,  0.203125  ,  0.0332031 ,  0.150391  ,\n",
       "        0.22168   ,  0.248047  , -0.194336  , -0.0869141 , -0.0129395 ,\n",
       "        0.28125   ,  0.0786133 , -0.267578  ,  0.0966797 , -0.118164  ,\n",
       "        0.0020752 , -0.0130615 , -0.0524902 ,  0.0996094 , -0.121582  ,\n",
       "       -0.0291748 ,  0.0888672 ,  0.0947266 , -0.144531  ,  0.0678711 ,\n",
       "       -0.357422  , -0.0834961 , -0.123047  , -0.269531  ,  0.0344238 ,\n",
       "       -0.115234  , -0.0493164 ,  0.0698242 , -0.0444336 , -0.150391  ,\n",
       "        0.0375977 ,  0.0839844 ,  0.351562  ,  0.235352  ,  0.189453  ,\n",
       "       -0.0148315 ,  0.0203857 ,  0.0307617 ,  0.193359  ,  0.117676  ,\n",
       "        0.175781  ,  0.0114746 , -0.0100708 , -0.201172  ,  0.271484  ,\n",
       "       -0.349609  , -0.00637817,  0.0262451 , -0.081543  ,  0.191406  ,\n",
       "        0.194336  , -0.0090332 , -0.273438  , -0.219727  , -0.259766  ,\n",
       "        0.0437012 , -0.00701904,  0.300781  , -0.259766  ,  0.169922  ,\n",
       "        0.0668945 , -0.21875   ,  0.210938  ,  0.059082  , -0.00830078,\n",
       "       -0.0380859 , -0.417969  ,  0.251953  , -0.107422  , -0.0654297 ,\n",
       "        0.102051  ,  0.219727  ,  0.275391  ,  0.192383  , -0.163086  ,\n",
       "       -0.00540161,  0.136719  , -0.00726318,  0.106934  ,  0.10791   ,\n",
       "        0.0512695 ,  0.168945  ,  0.402344  , -0.102051  , -0.00582886,\n",
       "        0.101074  , -0.386719  , -0.408203  , -0.0422363 ,  0.0122681 ,\n",
       "        0.118652  ,  0.392578  ,  0.0269775 ,  0.0432129 , -0.0441895 ,\n",
       "       -0.00878906, -0.036377  , -0.186523  , -0.231445  ,  0.0090332 ,\n",
       "       -0.0952148 , -0.105957  ,  0.140625  ,  0.388672  , -0.048584  ,\n",
       "        0.0839844 , -0.0771484 ,  0.0279541 ,  0.141602  ,  0.239258  ,\n",
       "        0.214844  , -0.081543  , -0.00939941,  0.188477  , -0.00698853,\n",
       "        0.0427246 ,  0.257812  , -0.0373535 , -0.0314941 , -0.285156  ,\n",
       "        0.116699  , -0.103027  , -0.0288086 , -0.166992  ,  0.277344  ,\n",
       "        0.125     , -0.460938  , -0.171875  , -0.359375  ,  0.0854492 ,\n",
       "        0.304688  ,  0.0859375 ,  0.0356445 , -0.326172  ,  0.205078  ,\n",
       "       -0.0859375 , -0.129883  , -0.22168   , -0.0183105 , -0.394531  ,\n",
       "        0.337891  , -0.0683594 , -0.0498047 , -0.220703  ,  0.128906  ,\n",
       "        0.105469  ,  0.132812  , -0.145508  ,  0.0854492 , -0.28125   ,\n",
       "       -0.269531  ,  0.0229492 , -0.0419922 , -0.00387573, -0.142578  ,\n",
       "       -0.145508  , -0.0255127 , -0.0168457 ,  0.148438  ,  0.137695  ,\n",
       "        0.181641  ,  0.378906  , -0.245117  , -0.0110474 , -0.078125  ,\n",
       "       -0.020752  ,  0.164062  , -0.279297  , -0.0693359 ,  0.324219  ,\n",
       "        0.232422  ,  0.0279541 , -0.231445  ,  0.118652  , -0.3125    ,\n",
       "       -0.00778198,  0.00933838, -0.0405273 ,  0.0358887 ,  0.371094  ,\n",
       "        0.147461  ,  0.195312  , -0.0693359 ,  0.182617  ,  0.160156  ,\n",
       "        0.0292969 , -0.0654297 , -0.115723  ,  0.0375977 , -0.135742  ,\n",
       "        0.214844  ,  0.429688  , -0.169922  , -0.135742  , -0.00927734,\n",
       "       -0.335938  , -0.0185547 ,  0.231445  , -0.0727539 , -0.251953  ,\n",
       "       -0.273438  ,  0.225586  , -0.115234  , -0.324219  ,  0.02771   ,\n",
       "       -0.0883789 , -0.0437012 ,  0.135742  , -0.0461426 , -0.0405273 ,\n",
       "        0.124023  ,  0.126953  ,  0.116211  ,  0.0174561 , -0.0383301 ,\n",
       "       -0.197266  , -0.174805  ,  0.242188  , -0.0844727 ,  0.0354004 ,\n",
       "        0.143555  ,  0.10498   , -0.0634766 , -0.0756836 ,  0.0908203 ,\n",
       "        0.0996094 ,  0.0717773 , -0.0256348 ,  0.132812  ,  0.146484  ,\n",
       "        0.0297852 ,  0.193359  , -0.173828  ,  0.208984  ,  0.0537109 ,\n",
       "        0.0147705 ,  0.108887  , -0.117188  ,  0.0820312 , -0.203125  ,\n",
       "       -0.298828  ,  0.18457   ,  0.0644531 , -0.376953  ,  0.0114136 ,\n",
       "       -0.129883  , -0.141602  ,  0.0664062 ,  0.431641  ,  0.0913086 ,\n",
       "       -0.182617  , -0.164062  ,  0.155273  , -0.0140381 ,  0.322266  ,\n",
       "        0.423828  , -0.00640869, -0.154297  ,  0.0181885 , -0.0546875 ,\n",
       "        0.241211  ,  0.240234  , -0.15332   , -0.277344  , -0.0830078 ,\n",
       "        0.0153809 , -0.00393677, -0.384766  , -0.166992  , -0.0280762 ,\n",
       "       -0.0202637 ,  0.0874023 , -0.185547  , -0.212891  ,  0.0112915 ,\n",
       "       -0.00726318,  0.157227  , -0.078125  ,  0.03125   , -0.0874023 ,\n",
       "       -0.116211  ,  0.081543  ,  0.0893555 , -0.00546265,  0.445312  ,\n",
       "       -0.238281  ,  0.15332   , -0.186523  , -0.120605  ,  0.0527344 ,\n",
       "       -0.024292  ,  0.0473633 , -0.0380859 ,  0.337891  , -0.0639648 ])"
      ]
     },
     "execution_count": 101,
     "metadata": {},
     "output_type": "execute_result"
    }
   ],
   "source": [
    "math_w2v = train_w2v_embed[word_inx]\n",
    "math_w2v"
   ]
  },
  {
   "cell_type": "markdown",
   "metadata": {},
   "source": [
    "## Make Z sample from word"
   ]
  },
  {
   "cell_type": "code",
   "execution_count": 102,
   "metadata": {},
   "outputs": [
    {
     "data": {
      "text/plain": [
       "11730"
      ]
     },
     "execution_count": 102,
     "metadata": {},
     "output_type": "execute_result"
    }
   ],
   "source": [
    "word_inx"
   ]
  },
  {
   "cell_type": "code",
   "execution_count": 106,
   "metadata": {},
   "outputs": [],
   "source": [
    "math_encoded = encoder.predict([np.repeat(np.expand_dims(train_w2v_embed[word_inx], axis = 0), m, axis=0), \n",
    "                                np.repeat(np.expand_dims(train_wordnet_cond_matrix_df.iloc[word_inx], axis = 0), m, axis=0)],\n",
    "                               batch_size = m)\n",
    "# encoder.predict([img_single, np.repeat(np.expand_dims(conditioning, axis=0), batch_size, axis=0)])"
   ]
  },
  {
   "cell_type": "code",
   "execution_count": 107,
   "metadata": {},
   "outputs": [
    {
     "data": {
      "text/plain": [
       "(75,)"
      ]
     },
     "execution_count": 107,
     "metadata": {},
     "output_type": "execute_result"
    }
   ],
   "source": [
    "math_encoded[0].shape"
   ]
  },
  {
   "cell_type": "code",
   "execution_count": 108,
   "metadata": {},
   "outputs": [
    {
     "name": "stdout",
     "output_type": "stream",
     "text": [
      "latent sample:\n",
      " [ 1.3896584e-04  2.7660618e-04  2.6771493e-04  6.6395372e-04\n",
      " -1.9782555e-04  1.0372390e-04 -4.9404765e-04 -4.5527043e-04\n",
      "  2.5605201e-05  5.3720752e-05  2.9726513e-04  6.8968959e-04\n",
      " -1.2246755e-04  1.4438671e-04 -5.2657077e-04 -2.5591167e-04\n",
      " -4.6116454e-04 -3.1248512e-04 -5.9636321e-05 -1.5983626e-04\n",
      "  3.4099663e-05 -3.0639556e-05 -5.8768077e-05  3.9050650e-04\n",
      "  2.0004381e-04  1.8347320e-04  1.7271616e-04 -9.7573800e-05\n",
      "  8.5845008e-05  2.4939133e-04 -1.6368739e-04 -1.6018690e-04\n",
      " -2.7751215e-04 -9.8404256e-05 -1.3232816e-04 -1.8254374e-04\n",
      " -2.8185901e-04  5.0727685e-05  1.9610353e-04  1.4930085e-04\n",
      "  2.8589857e-05  1.1555952e-05  1.1643958e-04  1.4306605e-04\n",
      " -4.0355287e-04 -1.6423955e-04 -3.0148955e-04  2.0343790e-04\n",
      " -2.2047057e-04 -6.0340436e-04  3.4291125e-04 -2.9219614e-04\n",
      " -2.1444299e-04 -1.8059592e-04  5.8146747e-05  1.3456061e-04\n",
      " -1.2839078e-04 -1.5019723e-05 -3.8725148e-07 -4.1548518e-04\n",
      "  1.1119241e-04 -8.2323844e-05  1.4860775e-04 -2.7360249e-05\n",
      " -4.4616390e-04  4.5714717e-04 -4.4738560e-04  4.7452858e-04\n",
      " -3.3669570e-04 -3.7097163e-04  2.1442832e-04 -6.9176487e-05\n",
      " -3.1855499e-04 -1.9631984e-04 -2.6058930e-04]\n"
     ]
    }
   ],
   "source": [
    "print('latent sample:\\n', math_encoded[0])"
   ]
  },
  {
   "cell_type": "markdown",
   "metadata": {},
   "source": [
    "## Decode the Z sample to a word \n",
    "should look similar to \"math\""
   ]
  },
  {
   "cell_type": "code",
   "execution_count": 109,
   "metadata": {},
   "outputs": [
    {
     "data": {
      "text/plain": [
       "(30, 75)"
      ]
     },
     "execution_count": 109,
     "metadata": {},
     "output_type": "execute_result"
    }
   ],
   "source": [
    "math_encoded.shape"
   ]
  },
  {
   "cell_type": "code",
   "execution_count": 110,
   "metadata": {},
   "outputs": [
    {
     "data": {
      "text/plain": [
       "(1, 2)"
      ]
     },
     "execution_count": 110,
     "metadata": {},
     "output_type": "execute_result"
    }
   ],
   "source": [
    "np.expand_dims([1,2], axis =0).shape"
   ]
  },
  {
   "cell_type": "code",
   "execution_count": 113,
   "metadata": {},
   "outputs": [],
   "source": [
    "decoder_input_z = np.concatenate((math_encoded, \n",
    "                                    np.repeat(np.expand_dims(train_wordnet_cond_matrix_df.iloc[word_inx], axis=0), m, axis=0)),\n",
    "                                  axis=1)\n",
    "z_decoded = decoder.predict(decoder_input_z)"
   ]
  },
  {
   "cell_type": "code",
   "execution_count": 114,
   "metadata": {},
   "outputs": [
    {
     "data": {
      "text/plain": [
       "(30, 300)"
      ]
     },
     "execution_count": 114,
     "metadata": {},
     "output_type": "execute_result"
    }
   ],
   "source": [
    "z_decoded.shape"
   ]
  },
  {
   "cell_type": "code",
   "execution_count": 115,
   "metadata": {},
   "outputs": [
    {
     "data": {
      "text/plain": [
       "(1, 300)"
      ]
     },
     "execution_count": 115,
     "metadata": {},
     "output_type": "execute_result"
    }
   ],
   "source": [
    "z_decoded[0].reshape(1,-1).shape"
   ]
  },
  {
   "cell_type": "markdown",
   "metadata": {},
   "source": [
    "**This word should look like \"mathematics\"**"
   ]
  },
  {
   "cell_type": "code",
   "execution_count": 116,
   "metadata": {},
   "outputs": [],
   "source": [
    "def find_closest_word(xhat, train_w2v_embed = train_w2v_embed, train_w2v_token= train_w2v_token, most_similar_n = 1):\n",
    "    \"\"\"Use cosine distance to find the most similar word to the decoder output\"\"\"\n",
    "    # xhat = decoder.predict(sample_word_3)\n",
    "    cos_sim = abs(cosine_similarity(xhat, train_w2v_embed)).flatten() # calculate dist\n",
    "    inx = np.argsort(cos_sim)[::-1][:most_similar_n] # the most similar, index\n",
    "    return train_w2v_token[inx] # most similar word"
   ]
  },
  {
   "cell_type": "code",
   "execution_count": 118,
   "metadata": {
    "scrolled": true
   },
   "outputs": [
    {
     "data": {
      "text/plain": [
       "array(['calculation', 'variables', 'logic', 'hypothetical', 'strategy',\n",
       "       'mathematical', 'calculating', 'calculations', 'equals', 'theorem'],\n",
       "      dtype='<U18')"
      ]
     },
     "execution_count": 118,
     "metadata": {},
     "output_type": "execute_result"
    }
   ],
   "source": [
    "find_closest_word(z_decoded[0].reshape(1,-1), most_similar_n=10)"
   ]
  },
  {
   "cell_type": "markdown",
   "metadata": {},
   "source": [
    "### Manipulate embedding to change the word structure\n",
    "\n",
    "dimension 954 is: \"algebra, exam, courses, exams, math\" (but it's a weak dimension itself)\n",
    "\n",
    "dimension 427 is related to \"theorem, equations, calculations\"\n",
    "\n",
    "dimension 206 is: \"docotorate, professor\" etc (strong dimension)"
   ]
  },
  {
   "cell_type": "code",
   "execution_count": 139,
   "metadata": {
    "scrolled": true
   },
   "outputs": [
    {
     "data": {
      "text/plain": [
       "array(['algorithms', 'thesis', 'count', 'estimated', 'calculation',\n",
       "       'vector', 'resolving', 'metric', 'calculating', 'assumptions',\n",
       "       'functions', 'proposition', 'symmetry', 'parameters',\n",
       "       'proportional', 'average', 'mathematician', 'calculate',\n",
       "       'provision', 'coordinate', 'half', 'transforming', 'coordinates',\n",
       "       'thirds', 'analogy', 'hamilton', 'minus', 'real', 'progression',\n",
       "       'implication', 'linear', 'computational', 'constant', 'no.',\n",
       "       'newton', 'derivatives', 'algorithm', 'value', 'transform',\n",
       "       'paradox', 'halves', 'prime', 'formulas', 'derivative',\n",
       "       'statistics', 'algebra', 'abel', 'subset', 'differential',\n",
       "       'operator', 'distributions', 'parameter', 'multiple',\n",
       "       'mathematical', 'klein', 'reciprocal', 'assumption',\n",
       "       'demographics', 'demographic', 'reach', 'equation', 'transforms',\n",
       "       'quarter', 'formula', 'mapping', 'calculations', 'pi', 'averages',\n",
       "       'mean', 'quantum', 'integral', 'distribution', 'counts',\n",
       "       'calculated', 'mathematics', 'math', 'third', 'theorem'],\n",
       "      dtype='<U18')"
      ]
     },
     "execution_count": 139,
     "metadata": {},
     "output_type": "execute_result"
    }
   ],
   "source": [
    "# other words that also belong to the topic \"mathematics\"\n",
    "train_word_token[np.where(train_wordnet_cond_matrix_df['mathematics'] == 1)]"
   ]
  },
  {
   "cell_type": "code",
   "execution_count": 180,
   "metadata": {},
   "outputs": [
    {
     "data": {
      "text/plain": [
       "array([], dtype='<U18')"
      ]
     },
     "execution_count": 180,
     "metadata": {},
     "output_type": "execute_result"
    }
   ],
   "source": [
    "# other words that also belong to the topic \"mathematics\"\n",
    "train_word_token[np.where(train_wordnet_cond_matrix_df['applied_science'] == 1)]"
   ]
  },
  {
   "cell_type": "code",
   "execution_count": 182,
   "metadata": {},
   "outputs": [
    {
     "data": {
      "text/plain": [
       "'philosophy'"
      ]
     },
     "execution_count": 182,
     "metadata": {},
     "output_type": "execute_result"
    }
   ],
   "source": [
    "# wordnet topic of a word\n",
    "wordnet_cond_label[np.where(train_wordnet_cond_matrix_df.loc['logic'] == 1)[0][0]]"
   ]
  },
  {
   "cell_type": "code",
   "execution_count": 190,
   "metadata": {},
   "outputs": [
    {
     "data": {
      "text/plain": [
       "114"
      ]
     },
     "execution_count": 190,
     "metadata": {},
     "output_type": "execute_result"
    }
   ],
   "source": [
    "# dimension number of wordnet topic\n",
    "np.where(np.array(wordnet_cond_label) == 'philosophy')[0][0]"
   ]
  },
  {
   "cell_type": "code",
   "execution_count": 158,
   "metadata": {},
   "outputs": [
    {
     "data": {
      "text/plain": [
       "Index(['writings', 'yellow', 'gag', 'prefix', 'delight', 'spiders', 'kim',\n",
       "       'overs', 'butter', 'settled',\n",
       "       ...\n",
       "       'iv', 'shame', 'in', 'complains', 'potentially', 'colonies', 'grows',\n",
       "       'entitled', 'meets', 'governors'],\n",
       "      dtype='object', length=3000)"
      ]
     },
     "execution_count": 158,
     "metadata": {},
     "output_type": "execute_result"
    }
   ],
   "source": [
    "test_wordnet_cond_matrix_df.index"
   ]
  },
  {
   "cell_type": "code",
   "execution_count": 178,
   "metadata": {},
   "outputs": [
    {
     "data": {
      "text/plain": [
       "'number'"
      ]
     },
     "execution_count": 178,
     "metadata": {},
     "output_type": "execute_result"
    }
   ],
   "source": [
    "wordnet_cond_label[np.where(test_wordnet_cond_matrix_df.loc['iv'] == 1)[0][0]]"
   ]
  },
  {
   "cell_type": "code",
   "execution_count": 175,
   "metadata": {
    "collapsed": true
   },
   "outputs": [
    {
     "data": {
      "text/plain": [
       "['acoustics',\n",
       " 'administration',\n",
       " 'agriculture',\n",
       " 'anatomy',\n",
       " 'animal_husbandry',\n",
       " 'animals',\n",
       " 'anthropology',\n",
       " 'applied_science',\n",
       " 'archaeology',\n",
       " 'archery',\n",
       " 'architecture',\n",
       " 'art',\n",
       " 'artisanship',\n",
       " 'astrology',\n",
       " 'astronautics',\n",
       " 'astronomy',\n",
       " 'athletics',\n",
       " 'atomic_physic',\n",
       " 'aviation',\n",
       " 'badminton',\n",
       " 'banking',\n",
       " 'baseball',\n",
       " 'basketball',\n",
       " 'betting',\n",
       " 'biochemistry',\n",
       " 'biology',\n",
       " 'body_care',\n",
       " 'book_keeping',\n",
       " 'bowling',\n",
       " 'boxing',\n",
       " 'buildings',\n",
       " 'card',\n",
       " 'chemistry',\n",
       " 'chess',\n",
       " 'cinema',\n",
       " 'color',\n",
       " 'commerce',\n",
       " 'computer_science',\n",
       " 'cricket',\n",
       " 'cycling',\n",
       " 'dance',\n",
       " 'dentistry',\n",
       " 'diplomacy',\n",
       " 'diving',\n",
       " 'drawing',\n",
       " 'earth',\n",
       " 'economy',\n",
       " 'electricity',\n",
       " 'electronics',\n",
       " 'electrotechnology',\n",
       " 'engineering',\n",
       " 'enterprise',\n",
       " 'entomology',\n",
       " 'environment',\n",
       " 'ethnology',\n",
       " 'exchange',\n",
       " 'factotum',\n",
       " 'fashion',\n",
       " 'fencing',\n",
       " 'finance',\n",
       " 'fishing',\n",
       " 'folklore',\n",
       " 'food',\n",
       " 'football',\n",
       " 'free_time',\n",
       " 'furniture',\n",
       " 'gas',\n",
       " 'gastronomy',\n",
       " 'genetics',\n",
       " 'geography',\n",
       " 'geology',\n",
       " 'geometry',\n",
       " 'golf',\n",
       " 'grammar',\n",
       " 'graphic_arts',\n",
       " 'health',\n",
       " 'heraldry',\n",
       " 'history',\n",
       " 'hockey',\n",
       " 'home',\n",
       " 'humanities',\n",
       " 'hunting',\n",
       " 'hydraulics',\n",
       " 'industry',\n",
       " 'insurance',\n",
       " 'jewellery',\n",
       " 'law',\n",
       " 'linguistics',\n",
       " 'literature',\n",
       " 'mathematics',\n",
       " 'mechanics',\n",
       " 'medicine',\n",
       " 'meteorology',\n",
       " 'metrology',\n",
       " 'military',\n",
       " 'money',\n",
       " 'mountaineering',\n",
       " 'music',\n",
       " 'mythology',\n",
       " 'n/a',\n",
       " 'nautical',\n",
       " 'number',\n",
       " 'numismatics',\n",
       " 'occultism',\n",
       " 'oceanography',\n",
       " 'optics',\n",
       " 'painting',\n",
       " 'paleontology',\n",
       " 'paranormal',\n",
       " 'pedagogy',\n",
       " 'person',\n",
       " 'pharmacy',\n",
       " 'philately',\n",
       " 'philology',\n",
       " 'philosophy',\n",
       " 'photography',\n",
       " 'physics',\n",
       " 'physiology',\n",
       " 'plants',\n",
       " 'plastic_arts',\n",
       " 'play',\n",
       " 'politics',\n",
       " 'post',\n",
       " 'psychiatry',\n",
       " 'psychoanalysis',\n",
       " 'psychological_features',\n",
       " 'psychology',\n",
       " 'publishing',\n",
       " 'pure_science',\n",
       " 'quality',\n",
       " 'racing',\n",
       " 'radio+tv',\n",
       " 'radiology',\n",
       " 'railway',\n",
       " 'religion',\n",
       " 'roman_catholic',\n",
       " 'rowing',\n",
       " 'rugby',\n",
       " 'school',\n",
       " 'sculpture',\n",
       " 'sexuality',\n",
       " 'skating',\n",
       " 'skiing',\n",
       " 'soccer',\n",
       " 'social_science',\n",
       " 'sociology',\n",
       " 'sport',\n",
       " 'statistics',\n",
       " 'sub',\n",
       " 'surgery',\n",
       " 'swimming',\n",
       " 'table_tennis',\n",
       " 'tax',\n",
       " 'telecommunication',\n",
       " 'telegraphy',\n",
       " 'telephony',\n",
       " 'tennis',\n",
       " 'theatre',\n",
       " 'theology',\n",
       " 'time_period',\n",
       " 'topography',\n",
       " 'tourism',\n",
       " 'town_planning',\n",
       " 'transport',\n",
       " 'university',\n",
       " 'vehicles',\n",
       " 'veterinary',\n",
       " 'volleyball',\n",
       " 'wrestling']"
      ]
     },
     "execution_count": 175,
     "metadata": {},
     "output_type": "execute_result"
    }
   ],
   "source": [
    "wordnet_cond_label"
   ]
  },
  {
   "cell_type": "code",
   "execution_count": 191,
   "metadata": {},
   "outputs": [],
   "source": [
    "new_condition = train_wordnet_cond_matrix_df.iloc[word_inx].copy()\n",
    "new_condition[114] = 10 # strengthen the condition, value needs to be higher than 1"
   ]
  },
  {
   "cell_type": "code",
   "execution_count": 192,
   "metadata": {},
   "outputs": [
    {
     "data": {
      "text/plain": [
       "10"
      ]
     },
     "execution_count": 192,
     "metadata": {},
     "output_type": "execute_result"
    }
   ],
   "source": [
    "new_condition[114] "
   ]
  },
  {
   "cell_type": "code",
   "execution_count": 193,
   "metadata": {},
   "outputs": [],
   "source": [
    "decoder_input_z2 = np.concatenate((math_encoded, \n",
    "                                    np.repeat(np.expand_dims(new_condition, axis=0), m, axis=0)),\n",
    "                                  axis=1)\n",
    "z_decoded2 = decoder.predict(decoder_input_z2)"
   ]
  },
  {
   "cell_type": "code",
   "execution_count": 194,
   "metadata": {},
   "outputs": [
    {
     "data": {
      "text/plain": [
       "array(['explained', 'noting', 'thinks', 'asserts', 'citing', 'added',\n",
       "       'attributes', 'noted', 'adding', 'speculated'], dtype='<U18')"
      ]
     },
     "execution_count": 194,
     "metadata": {},
     "output_type": "execute_result"
    }
   ],
   "source": [
    "find_closest_word(np.expand_dims(z_decoded2[0], axis=0), most_similar_n=10)"
   ]
  },
  {
   "cell_type": "code",
   "execution_count": 196,
   "metadata": {},
   "outputs": [
    {
     "name": "stdout",
     "output_type": "stream",
     "text": [
      "['calculation' 'variables' 'logic' 'hypothetical' 'strategy'\n",
      " 'mathematical' 'calculating' 'calculations' 'equals' 'theorem']\n",
      "['calculation' 'variables' 'logic' 'hypothetical' 'strategy'\n",
      " 'mathematical' 'calculating' 'calculations' 'equals' 'theorem']\n",
      "['logic' 'subjective' 'implies' 'hypothetical' 'reasoning' 'variables'\n",
      " 'ignores' 'rational' 'theorem' 'concepts']\n",
      "['logic' 'subjective' 'implies' 'hypothetical' 'reasoning' 'variables'\n",
      " 'ignores' 'rational' 'theorem' 'concepts']\n",
      "['implies' 'ignores' 'explained' 'asserts' 'subjective' 'suggests'\n",
      " 'reasoning' 'attributes' 'moreover' 'illustrates']\n",
      "['implies' 'ignores' 'explained' 'asserts' 'subjective' 'suggests'\n",
      " 'reasoning' 'attributes' 'moreover' 'illustrates']\n",
      "['explained' 'asserts' 'implies' 'suggests' 'thinks' 'ignores'\n",
      " 'attributes' 'emphasized' 'noting' 'noted']\n",
      "['explained' 'asserts' 'implies' 'suggests' 'thinks' 'ignores'\n",
      " 'attributes' 'emphasized' 'noting' 'noted']\n",
      "['explained' 'asserts' 'thinks' 'noting' 'attributes' 'implies' 'noted'\n",
      " 'suggests' 'emphasized' 'pointed']\n",
      "['explained' 'noting' 'thinks' 'asserts' 'noted' 'attributes' 'emphasized'\n",
      " 'implies' 'pointed' 'added']\n"
     ]
    }
   ],
   "source": [
    "values_to_try = np.linspace(0,5,num=10)\n",
    "for val in values_to_try:\n",
    "    new_condition = train_wordnet_cond_matrix_df.iloc[word_inx].copy()\n",
    "    new_condition[114] = val # strengthen the condition, value needs to be higher than 1\n",
    "\n",
    "    decoder_input_z2 = np.concatenate((math_encoded, \n",
    "                                        np.repeat(np.expand_dims(new_condition, axis=0), m, axis=0)),\n",
    "                                      axis=1)\n",
    "    z_decoded2 = decoder.predict(decoder_input_z2)\n",
    "\n",
    "    print(find_closest_word(np.expand_dims(z_decoded2[0], axis=0), most_similar_n=10))"
   ]
  },
  {
   "cell_type": "code",
   "execution_count": 171,
   "metadata": {
    "scrolled": true
   },
   "outputs": [
    {
     "name": "stdout",
     "output_type": "stream",
     "text": [
      "0.0\n",
      "['mathematics' 'math' 'algebra' 'science' 'physics' 'linguistics'\n",
      " 'economics' 'theorem']\n",
      "0.2\n",
      "['mathematics' 'math' 'algebra' 'science' 'physics' 'linguistics'\n",
      " 'anthropology' 'economics']\n",
      "0.41\n",
      "['mathematics' 'math' 'algebra' 'science' 'linguistics' 'anthropology'\n",
      " 'physics' 'sociology']\n",
      "0.61\n",
      "['mathematics' 'math' 'algebra' 'sociology' 'anthropology' 'linguistics'\n",
      " 'science' 'physics']\n",
      "0.82\n",
      "['mathematics' 'math' 'sociology' 'anthropology' 'linguistics' 'physics'\n",
      " 'science' 'psychology']\n",
      "1.02\n",
      "['mathematics' 'math' 'sociology' 'anthropology' 'linguistics'\n",
      " 'psychology' 'physics' 'economics']\n",
      "1.22\n",
      "['mathematics' 'sociology' 'math' 'anthropology' 'psychology'\n",
      " 'linguistics' 'physics' 'economics']\n",
      "1.43\n",
      "['mathematics' 'sociology' 'anthropology' 'psychology' 'math' 'physics'\n",
      " 'linguistics' 'economics']\n",
      "1.63\n",
      "['mathematics' 'sociology' 'anthropology' 'psychology' 'physics'\n",
      " 'linguistics' 'math' 'economics']\n",
      "1.84\n",
      "['sociology' 'mathematics' 'anthropology' 'psychology' 'physics'\n",
      " 'linguistics' 'economics' 'undergraduate']\n",
      "2.04\n",
      "['sociology' 'mathematics' 'anthropology' 'psychology' 'physics'\n",
      " 'linguistics' 'undergraduate' 'economics']\n",
      "2.24\n",
      "['sociology' 'mathematics' 'anthropology' 'psychology' 'physics'\n",
      " 'undergraduate' 'linguistics' 'doctorate']\n",
      "2.45\n",
      "['sociology' 'psychology' 'anthropology' 'mathematics' 'physics'\n",
      " 'undergraduate' 'doctorate' 'linguistics']\n",
      "2.65\n",
      "['sociology' 'psychology' 'anthropology' 'mathematics' 'doctorate'\n",
      " 'undergraduate' 'physics' 'linguistics']\n",
      "2.86\n",
      "['sociology' 'psychology' 'anthropology' 'doctorate' 'undergraduate'\n",
      " 'mathematics' 'physics' 'linguistics']\n",
      "3.06\n",
      "['sociology' 'doctorate' 'psychology' 'anthropology' 'undergraduate'\n",
      " 'physics' 'mathematics' 'graduate']\n",
      "3.27\n",
      "['sociology' 'doctorate' 'undergraduate' 'anthropology' 'psychology'\n",
      " 'graduate' 'physics' 'professors']\n",
      "3.47\n",
      "['sociology' 'doctorate' 'undergraduate' 'anthropology' 'psychology'\n",
      " 'graduate' 'professors' 'physics']\n",
      "3.67\n",
      "['sociology' 'doctorate' 'undergraduate' 'anthropology' 'psychology'\n",
      " 'graduate' 'professors' 'doctoral']\n",
      "3.88\n",
      "['sociology' 'doctorate' 'undergraduate' 'anthropology' 'graduate'\n",
      " 'psychology' 'professors' 'doctoral']\n",
      "4.08\n",
      "['sociology' 'doctorate' 'undergraduate' 'graduate' 'anthropology'\n",
      " 'professors' 'doctoral' 'psychology']\n",
      "4.29\n",
      "['sociology' 'doctorate' 'undergraduate' 'graduate' 'professors'\n",
      " 'anthropology' 'doctoral' 'professor']\n",
      "4.49\n",
      "['sociology' 'doctorate' 'undergraduate' 'graduate' 'professors'\n",
      " 'anthropology' 'professor' 'doctoral']\n",
      "4.69\n",
      "['sociology' 'doctorate' 'undergraduate' 'graduate' 'professors'\n",
      " 'professor' 'doctoral' 'anthropology']\n",
      "4.9\n",
      "['sociology' 'doctorate' 'undergraduate' 'graduate' 'professors'\n",
      " 'professor' 'doctoral' 'anthropology']\n",
      "5.1\n",
      "['doctorate' 'sociology' 'undergraduate' 'graduate' 'professors'\n",
      " 'professor' 'doctoral' 'anthropology']\n",
      "5.31\n",
      "['doctorate' 'sociology' 'undergraduate' 'graduate' 'professors'\n",
      " 'professor' 'doctoral' 'anthropology']\n",
      "5.51\n",
      "['doctorate' 'sociology' 'undergraduate' 'graduate' 'professors'\n",
      " 'professor' 'doctoral' 'anthropology']\n",
      "5.71\n",
      "['doctorate' 'sociology' 'undergraduate' 'graduate' 'professors'\n",
      " 'professor' 'doctoral' 'anthropology']\n",
      "5.92\n",
      "['doctorate' 'sociology' 'undergraduate' 'graduate' 'professors'\n",
      " 'professor' 'doctoral' 'dean']\n",
      "6.12\n",
      "['doctorate' 'sociology' 'undergraduate' 'graduate' 'professors'\n",
      " 'professor' 'doctoral' 'dean']\n",
      "6.33\n",
      "['doctorate' 'sociology' 'undergraduate' 'graduate' 'professors'\n",
      " 'professor' 'doctoral' 'dean']\n",
      "6.53\n",
      "['doctorate' 'sociology' 'undergraduate' 'graduate' 'professors'\n",
      " 'professor' 'doctoral' 'dean']\n",
      "6.73\n",
      "['doctorate' 'sociology' 'undergraduate' 'graduate' 'professors'\n",
      " 'professor' 'doctoral' 'dean']\n",
      "6.94\n",
      "['doctorate' 'sociology' 'undergraduate' 'graduate' 'professors'\n",
      " 'professor' 'doctoral' 'dean']\n",
      "7.14\n",
      "['doctorate' 'sociology' 'undergraduate' 'graduate' 'professors'\n",
      " 'professor' 'doctoral' 'dean']\n",
      "7.35\n",
      "['doctorate' 'sociology' 'undergraduate' 'graduate' 'professors'\n",
      " 'professor' 'doctoral' 'dean']\n",
      "7.55\n",
      "['doctorate' 'sociology' 'undergraduate' 'professor' 'professors'\n",
      " 'graduate' 'doctoral' 'dean']\n",
      "7.76\n",
      "['doctorate' 'sociology' 'professor' 'undergraduate' 'professors'\n",
      " 'graduate' 'doctoral' 'dean']\n",
      "7.96\n",
      "['doctorate' 'sociology' 'professor' 'undergraduate' 'professors'\n",
      " 'graduate' 'dean' 'doctoral']\n",
      "8.16\n",
      "['doctorate' 'sociology' 'professor' 'undergraduate' 'professors'\n",
      " 'graduate' 'dean' 'doctoral']\n",
      "8.37\n",
      "['doctorate' 'sociology' 'professor' 'professors' 'undergraduate'\n",
      " 'graduate' 'dean' 'doctoral']\n",
      "8.57\n",
      "['doctorate' 'sociology' 'professor' 'professors' 'undergraduate'\n",
      " 'graduate' 'dean' 'doctoral']\n",
      "8.78\n",
      "['doctorate' 'sociology' 'professor' 'professors' 'undergraduate'\n",
      " 'graduate' 'dean' 'doctoral']\n",
      "8.98\n",
      "['doctorate' 'sociology' 'professor' 'professors' 'undergraduate'\n",
      " 'graduate' 'dean' 'doctoral']\n",
      "9.18\n",
      "['doctorate' 'sociology' 'professor' 'professors' 'undergraduate'\n",
      " 'graduate' 'dean' 'doctoral']\n",
      "9.39\n",
      "['doctorate' 'sociology' 'professor' 'professors' 'undergraduate'\n",
      " 'graduate' 'dean' 'university']\n",
      "9.59\n",
      "['doctorate' 'sociology' 'professor' 'professors' 'undergraduate' 'dean'\n",
      " 'graduate' 'university']\n",
      "9.8\n",
      "['doctorate' 'sociology' 'professor' 'professors' 'undergraduate' 'dean'\n",
      " 'graduate' 'university']\n",
      "10.0\n",
      "['doctorate' 'sociology' 'professor' 'professors' 'undergraduate' 'dean'\n",
      " 'graduate' 'university']\n"
     ]
    }
   ],
   "source": [
    "values_to_try = np.linspace(0,10,num=50)\n",
    "for val in values_to_try:\n",
    "    print(np.round(val,2))\n",
    "    new_condition = train_word_embed[word_inx].copy()\n",
    "    new_condition[206] = val # strengthen the condition, value needs to be higher than 1\n",
    "\n",
    "    decoder_input_z2 = np.concatenate((math_encoded, \n",
    "                                        np.repeat(np.expand_dims(new_condition, axis=0), m, axis=0)),\n",
    "                                      axis=1)\n",
    "    z_decoded2 = decoder.predict(decoder_input_z2)\n",
    "\n",
    "    print(find_closest_word(np.expand_dims(z_decoded2[0], axis=0), most_similar_n=8))"
   ]
  },
  {
   "cell_type": "code",
   "execution_count": 166,
   "metadata": {
    "scrolled": true
   },
   "outputs": [
    {
     "name": "stdout",
     "output_type": "stream",
     "text": [
      "0.0\n",
      "['mathematics' 'math' 'mathematician' 'algebra' 'physics']\n",
      "0.5555555555555556\n",
      "['mathematics' 'math' 'algebra' 'science' 'linguistics']\n",
      "1.1111111111111112\n",
      "['mathematics' 'math' 'algebra' 'anthropology' 'science']\n",
      "1.6666666666666667\n",
      "['mathematics' 'math' 'algebra' 'anthropology' 'calculus']\n",
      "2.2222222222222223\n",
      "['algebra' 'mathematics' 'math' 'anthropology' 'calculus']\n",
      "2.7777777777777777\n",
      "['algebra' 'mathematics' 'math' 'anthropology' 'sociology']\n",
      "3.3333333333333335\n",
      "['algebra' 'math' 'mathematics' 'anthropology' 'sociology']\n",
      "3.8888888888888893\n",
      "['algebra' 'math' 'mathematics' 'anthropology' 'sociology']\n",
      "4.444444444444445\n",
      "['algebra' 'math' 'mathematics' 'anthropology' 'sociology']\n",
      "5.0\n",
      "['algebra' 'math' 'mathematics' 'anthropology' 'sociology']\n"
     ]
    }
   ],
   "source": [
    "values_to_try = np.linspace(0,5,num=10)\n",
    "for val in values_to_try:\n",
    "    print(val)\n",
    "    new_condition = train_word_embed[word_inx].copy()\n",
    "    new_condition[954] = val # strengthen the condition, value needs to be higher than 1\n",
    "\n",
    "    decoder_input_z2 = np.concatenate((math_encoded, \n",
    "                                        np.repeat(np.expand_dims(new_condition, axis=0), m, axis=0)),\n",
    "                                      axis=1)\n",
    "    z_decoded2 = decoder.predict(decoder_input_z2)\n",
    "\n",
    "    print(find_closest_word(np.expand_dims(z_decoded2[0], axis=0), most_similar_n=5))"
   ]
  },
  {
   "cell_type": "markdown",
   "metadata": {},
   "source": [
    "**Future direction**\n",
    "\n",
    "hard to visualize the continuous change, unlike images, when manuipulating condition, therefore, I need to visualize a couple top most similar words. "
   ]
  },
  {
   "cell_type": "code",
   "execution_count": 150,
   "metadata": {},
   "outputs": [],
   "source": [
    "def display_manifold(decoder, base_vec, bound_x=15, bound_y=15, axis_x=0, axis_y=1, n=10,\n",
    "                     desc_x = 'x', desc_y = 'y', file_out=None):\n",
    "    '''Varies up to two dimensions of the latent representation, and visualizes its effect.\n",
    "\n",
    "    This function can be used in one or two dimensions. To just vary a single dimension, set\n",
    "    either bound_x or bound_y to zero.\n",
    "\n",
    "    Args:\n",
    "        decoder: The keras decoder model to use.\n",
    "        base_vec: The basic latent representation to which changes should be applied.\n",
    "            Per convention, the first entries in base_vec correspond to the latent variables,\n",
    "            followed by variables we condition on (if any). Therefore, dimension is the sum of\n",
    "            the latent dimension and the conditioning dimension.\n",
    "        bound_x: The range that the values on axis_x will be modified to.\n",
    "        bound_y: The range that the values on axis_y will be modified to.\n",
    "        axis_x: The first axis to modify. Must be 0 <= axis_x <= len(base_vec).\n",
    "        axis_y: The first axis to modify. Must be 0 <= axis_y <= len(base_vec).\n",
    "        n: The number of columns/rows to generate. Thus, in total, n**2 images will be generated\n",
    "            if two dimensions are modified. Otherwise, just n images will be generated.\n",
    "        desc_x: The caption of the x-axis shown on the plot.\n",
    "        desc_y: The caption of the y-axis shown on the plot.\n",
    "        file_out: File path if the resulting plot should be saved. Can be None.\n",
    "\n",
    "    Returns:\n",
    "        Results will be plotted. In addition, a tuple is returned, containing both the grid as\n",
    "        color image, as well as a list of the individual images generated (row-wise).\n",
    "    '''\n",
    "    height = 128\n",
    "    width = 128\n",
    "#     figure = np.zeros((height * (n if bound_y > 0 else 1), width * (n if bound_x > 0 else 1), 3))\n",
    "    grid_x = np.linspace(-bound_x, bound_x, n) if bound_x > 0 else [0]\n",
    "    grid_y = np.linspace(-bound_y, bound_y, n) if bound_y > 0 else [0]\n",
    "    individual_outputs = []\n",
    "\n",
    "    for i, yi in enumerate(grid_y):\n",
    "        for j, xi in enumerate(grid_x):\n",
    "            z_sample = base_vec.copy()\n",
    "            z_sample[axis_x] = xi # SD is 1\n",
    "            z_sample[axis_y] = yi # SD is 1\n",
    "\n",
    "            x_decoded = decoder.predict(np.expand_dims(z_sample, axis=0))\n",
    "#             sample = np.clip(x_decoded[0], 0, 1)\n",
    "            sample = find_closest_word(np.expand_dims(z_decoded2[0], axis=0))\n",
    "#             figure[i * height: (i + 1) * height, j * width: (j + 1) * width] = sample\n",
    "            individual_outputs.append(sample)\n",
    "\n",
    "#     plt.figure(figsize=(10, 10))\n",
    "#     plt.imshow(figure)\n",
    "#     plt.xlabel(desc_x)\n",
    "#     plt.ylabel(desc_y)\n",
    "#     if file_out is not None:\n",
    "#         plt.savefig(file_out, dpi=200, bbox_inches='tight')\n",
    "    return individual_outputs"
   ]
  },
  {
   "cell_type": "code",
   "execution_count": 144,
   "metadata": {},
   "outputs": [
    {
     "data": {
      "text/plain": [
       "(1920, 1920, 3)"
      ]
     },
     "execution_count": 144,
     "metadata": {},
     "output_type": "execute_result"
    }
   ],
   "source": [
    "bound_x = 15\n",
    "bound_y = 15\n",
    "height = 128\n",
    "width = 128\n",
    "n = 15\n",
    "np.zeros((height * (n if bound_y > 0 else 1), width * (n if bound_x > 0 else 1), 3)).shape"
   ]
  },
  {
   "cell_type": "code",
   "execution_count": 154,
   "metadata": {},
   "outputs": [
    {
     "data": {
      "text/plain": [
       "502"
      ]
     },
     "execution_count": 154,
     "metadata": {},
     "output_type": "execute_result"
    }
   ],
   "source": [
    "LATENT_DIM + dim1_inx"
   ]
  },
  {
   "cell_type": "code",
   "execution_count": 155,
   "metadata": {},
   "outputs": [
    {
     "data": {
      "text/plain": [
       "281"
      ]
     },
     "execution_count": 155,
     "metadata": {},
     "output_type": "execute_result"
    }
   ],
   "source": [
    "LATENT_DIM + dim2_inx"
   ]
  },
  {
   "cell_type": "code",
   "execution_count": 158,
   "metadata": {},
   "outputs": [],
   "source": [
    "dim1 = 'theorem, equations, calculations' # 427\n",
    "dim2 = 'doctorate, professor, doctoral' # 206\n",
    "dim1_inx = 427\n",
    "dim2_inx = 206\n",
    "LATENT_DIM = 75\n",
    "\n",
    "base_vec = np.array(list(math_encoded[0]) + list(new_condition))\n",
    "\n",
    "sample = display_manifold(\n",
    "    decoder, \n",
    "    base_vec, \n",
    "    bound_x=10, \n",
    "    bound_y=10, \n",
    "    axis_x=LATENT_DIM + dim1_inx, \n",
    "    axis_y=LATENT_DIM + dim2_inx, \n",
    "    n=10,\n",
    "    desc_x = dim1,\n",
    "    desc_y = dim2,\n",
    "    file_out = 'rendering_celeba_' + dim1.lower() + '_' + dim2.lower() + '.png')"
   ]
  },
  {
   "cell_type": "code",
   "execution_count": 159,
   "metadata": {},
   "outputs": [
    {
     "data": {
      "text/plain": [
       "[array(['theorem'], dtype='<U18'),\n",
       " array(['theorem'], dtype='<U18'),\n",
       " array(['theorem'], dtype='<U18'),\n",
       " array(['theorem'], dtype='<U18'),\n",
       " array(['theorem'], dtype='<U18'),\n",
       " array(['theorem'], dtype='<U18'),\n",
       " array(['theorem'], dtype='<U18'),\n",
       " array(['theorem'], dtype='<U18'),\n",
       " array(['theorem'], dtype='<U18'),\n",
       " array(['theorem'], dtype='<U18'),\n",
       " array(['theorem'], dtype='<U18'),\n",
       " array(['theorem'], dtype='<U18'),\n",
       " array(['theorem'], dtype='<U18'),\n",
       " array(['theorem'], dtype='<U18'),\n",
       " array(['theorem'], dtype='<U18'),\n",
       " array(['theorem'], dtype='<U18'),\n",
       " array(['theorem'], dtype='<U18'),\n",
       " array(['theorem'], dtype='<U18'),\n",
       " array(['theorem'], dtype='<U18'),\n",
       " array(['theorem'], dtype='<U18'),\n",
       " array(['theorem'], dtype='<U18'),\n",
       " array(['theorem'], dtype='<U18'),\n",
       " array(['theorem'], dtype='<U18'),\n",
       " array(['theorem'], dtype='<U18'),\n",
       " array(['theorem'], dtype='<U18'),\n",
       " array(['theorem'], dtype='<U18'),\n",
       " array(['theorem'], dtype='<U18'),\n",
       " array(['theorem'], dtype='<U18'),\n",
       " array(['theorem'], dtype='<U18'),\n",
       " array(['theorem'], dtype='<U18'),\n",
       " array(['theorem'], dtype='<U18'),\n",
       " array(['theorem'], dtype='<U18'),\n",
       " array(['theorem'], dtype='<U18'),\n",
       " array(['theorem'], dtype='<U18'),\n",
       " array(['theorem'], dtype='<U18'),\n",
       " array(['theorem'], dtype='<U18'),\n",
       " array(['theorem'], dtype='<U18'),\n",
       " array(['theorem'], dtype='<U18'),\n",
       " array(['theorem'], dtype='<U18'),\n",
       " array(['theorem'], dtype='<U18'),\n",
       " array(['theorem'], dtype='<U18'),\n",
       " array(['theorem'], dtype='<U18'),\n",
       " array(['theorem'], dtype='<U18'),\n",
       " array(['theorem'], dtype='<U18'),\n",
       " array(['theorem'], dtype='<U18'),\n",
       " array(['theorem'], dtype='<U18'),\n",
       " array(['theorem'], dtype='<U18'),\n",
       " array(['theorem'], dtype='<U18'),\n",
       " array(['theorem'], dtype='<U18'),\n",
       " array(['theorem'], dtype='<U18'),\n",
       " array(['theorem'], dtype='<U18'),\n",
       " array(['theorem'], dtype='<U18'),\n",
       " array(['theorem'], dtype='<U18'),\n",
       " array(['theorem'], dtype='<U18'),\n",
       " array(['theorem'], dtype='<U18'),\n",
       " array(['theorem'], dtype='<U18'),\n",
       " array(['theorem'], dtype='<U18'),\n",
       " array(['theorem'], dtype='<U18'),\n",
       " array(['theorem'], dtype='<U18'),\n",
       " array(['theorem'], dtype='<U18'),\n",
       " array(['theorem'], dtype='<U18'),\n",
       " array(['theorem'], dtype='<U18'),\n",
       " array(['theorem'], dtype='<U18'),\n",
       " array(['theorem'], dtype='<U18'),\n",
       " array(['theorem'], dtype='<U18'),\n",
       " array(['theorem'], dtype='<U18'),\n",
       " array(['theorem'], dtype='<U18'),\n",
       " array(['theorem'], dtype='<U18'),\n",
       " array(['theorem'], dtype='<U18'),\n",
       " array(['theorem'], dtype='<U18'),\n",
       " array(['theorem'], dtype='<U18'),\n",
       " array(['theorem'], dtype='<U18'),\n",
       " array(['theorem'], dtype='<U18'),\n",
       " array(['theorem'], dtype='<U18'),\n",
       " array(['theorem'], dtype='<U18'),\n",
       " array(['theorem'], dtype='<U18'),\n",
       " array(['theorem'], dtype='<U18'),\n",
       " array(['theorem'], dtype='<U18'),\n",
       " array(['theorem'], dtype='<U18'),\n",
       " array(['theorem'], dtype='<U18'),\n",
       " array(['theorem'], dtype='<U18'),\n",
       " array(['theorem'], dtype='<U18'),\n",
       " array(['theorem'], dtype='<U18'),\n",
       " array(['theorem'], dtype='<U18'),\n",
       " array(['theorem'], dtype='<U18'),\n",
       " array(['theorem'], dtype='<U18'),\n",
       " array(['theorem'], dtype='<U18'),\n",
       " array(['theorem'], dtype='<U18'),\n",
       " array(['theorem'], dtype='<U18'),\n",
       " array(['theorem'], dtype='<U18'),\n",
       " array(['theorem'], dtype='<U18'),\n",
       " array(['theorem'], dtype='<U18'),\n",
       " array(['theorem'], dtype='<U18'),\n",
       " array(['theorem'], dtype='<U18'),\n",
       " array(['theorem'], dtype='<U18'),\n",
       " array(['theorem'], dtype='<U18'),\n",
       " array(['theorem'], dtype='<U18'),\n",
       " array(['theorem'], dtype='<U18'),\n",
       " array(['theorem'], dtype='<U18'),\n",
       " array(['theorem'], dtype='<U18')]"
      ]
     },
     "execution_count": 159,
     "metadata": {},
     "output_type": "execute_result"
    }
   ],
   "source": [
    "sample"
   ]
  },
  {
   "cell_type": "code",
   "execution_count": null,
   "metadata": {},
   "outputs": [],
   "source": [
    "dig = 3\n",
    "max_z = 1.5\n",
    "\n",
    "img_it = 0\n",
    "for i in range(0, sides):\n",
    "    z1 = (((i / (sides-1)) * max_z)*2) - max_z\n",
    "    for j in range(0, sides):\n",
    "        z2 = (((j / (sides-1)) * max_z)*2) - max_z\n",
    "        z_ = [z1, z2]\n",
    "        vec = construct_wordvec(dig, z_)\n",
    "        decoded = decoder.predict(vec)\n",
    "        print(sides, sides, 1 + img_it)\n",
    "#         subplot(sides, sides, 1 + img_it)\n",
    "        img_it +=1\n",
    "        print(find_closest_word(decoded))\n",
    "#         plt.imshow(decoded.reshape(28, 28), cmap = plt.cm.gray), axis('off')\n",
    "# plt.subplots_adjust(left=0, bottom=0, right=1, top=1, wspace=0, hspace=.2)\n",
    "# plt.show()"
   ]
  },
  {
   "cell_type": "code",
   "execution_count": null,
   "metadata": {},
   "outputs": [],
   "source": []
  },
  {
   "cell_type": "code",
   "execution_count": 102,
   "metadata": {
    "scrolled": false
   },
   "outputs": [
    {
     "ename": "NameError",
     "evalue": "name 'construct_wordvec' is not defined",
     "output_type": "error",
     "traceback": [
      "\u001b[0;31m---------------------------------------------------------------------------\u001b[0m",
      "\u001b[0;31mNameError\u001b[0m                                 Traceback (most recent call last)",
      "\u001b[0;32m<ipython-input-102-f86560f3e5c2>\u001b[0m in \u001b[0;36m<module>\u001b[0;34m()\u001b[0m\n\u001b[1;32m      9\u001b[0m         \u001b[0mz2\u001b[0m \u001b[0;34m=\u001b[0m \u001b[0;34m(\u001b[0m\u001b[0;34m(\u001b[0m\u001b[0;34m(\u001b[0m\u001b[0mj\u001b[0m \u001b[0;34m/\u001b[0m \u001b[0;34m(\u001b[0m\u001b[0msides\u001b[0m\u001b[0;34m-\u001b[0m\u001b[0;36m1\u001b[0m\u001b[0;34m)\u001b[0m\u001b[0;34m)\u001b[0m \u001b[0;34m*\u001b[0m \u001b[0mmax_z\u001b[0m\u001b[0;34m)\u001b[0m\u001b[0;34m*\u001b[0m\u001b[0;36m2\u001b[0m\u001b[0;34m)\u001b[0m \u001b[0;34m-\u001b[0m \u001b[0mmax_z\u001b[0m\u001b[0;34m\u001b[0m\u001b[0;34m\u001b[0m\u001b[0m\n\u001b[1;32m     10\u001b[0m         \u001b[0mz_\u001b[0m \u001b[0;34m=\u001b[0m \u001b[0;34m[\u001b[0m\u001b[0mz1\u001b[0m\u001b[0;34m,\u001b[0m \u001b[0mz2\u001b[0m\u001b[0;34m]\u001b[0m\u001b[0;34m\u001b[0m\u001b[0;34m\u001b[0m\u001b[0m\n\u001b[0;32m---> 11\u001b[0;31m         \u001b[0mvec\u001b[0m \u001b[0;34m=\u001b[0m \u001b[0mconstruct_wordvec\u001b[0m\u001b[0;34m(\u001b[0m\u001b[0mdig\u001b[0m\u001b[0;34m,\u001b[0m \u001b[0mz_\u001b[0m\u001b[0;34m)\u001b[0m\u001b[0;34m\u001b[0m\u001b[0;34m\u001b[0m\u001b[0m\n\u001b[0m\u001b[1;32m     12\u001b[0m         \u001b[0mdecoded\u001b[0m \u001b[0;34m=\u001b[0m \u001b[0mdecoder\u001b[0m\u001b[0;34m.\u001b[0m\u001b[0mpredict\u001b[0m\u001b[0;34m(\u001b[0m\u001b[0mvec\u001b[0m\u001b[0;34m)\u001b[0m\u001b[0;34m\u001b[0m\u001b[0;34m\u001b[0m\u001b[0m\n\u001b[1;32m     13\u001b[0m         \u001b[0mprint\u001b[0m\u001b[0;34m(\u001b[0m\u001b[0msides\u001b[0m\u001b[0;34m,\u001b[0m \u001b[0msides\u001b[0m\u001b[0;34m,\u001b[0m \u001b[0;36m1\u001b[0m \u001b[0;34m+\u001b[0m \u001b[0mimg_it\u001b[0m\u001b[0;34m)\u001b[0m\u001b[0;34m\u001b[0m\u001b[0;34m\u001b[0m\u001b[0m\n",
      "\u001b[0;31mNameError\u001b[0m: name 'construct_wordvec' is not defined"
     ]
    }
   ],
   "source": [
    "dig = 3\n",
    "sides = 2\n",
    "max_z = 1.5\n",
    "\n",
    "img_it = 0\n",
    "for i in range(0, sides):\n",
    "    z1 = (((i / (sides-1)) * max_z)*2) - max_z\n",
    "    for j in range(0, sides):\n",
    "        z2 = (((j / (sides-1)) * max_z)*2) - max_z\n",
    "        z_ = [z1, z2]\n",
    "        vec = construct_wordvec(dig, z_)\n",
    "        decoded = decoder.predict(vec)\n",
    "        print(sides, sides, 1 + img_it)\n",
    "#         subplot(sides, sides, 1 + img_it)\n",
    "        img_it +=1\n",
    "        print(find_closest_word(decoded))\n",
    "#         plt.imshow(decoded.reshape(28, 28), cmap = plt.cm.gray), axis('off')\n",
    "# plt.subplots_adjust(left=0, bottom=0, right=1, top=1, wspace=0, hspace=.2)\n",
    "# plt.show()"
   ]
  },
  {
   "cell_type": "code",
   "execution_count": 205,
   "metadata": {},
   "outputs": [
    {
     "data": {
      "text/plain": [
       "(1, 300)"
      ]
     },
     "execution_count": 205,
     "metadata": {},
     "output_type": "execute_result"
    }
   ],
   "source": [
    "decoder.predict(sample_word_3).shape"
   ]
  },
  {
   "cell_type": "code",
   "execution_count": 241,
   "metadata": {},
   "outputs": [
    {
     "data": {
      "text/plain": [
       "(12000, 300)"
      ]
     },
     "execution_count": 241,
     "metadata": {},
     "output_type": "execute_result"
    }
   ],
   "source": [
    "train_w2v_embed.shape"
   ]
  },
  {
   "cell_type": "markdown",
   "metadata": {},
   "source": [
    "## MNIST"
   ]
  },
  {
   "cell_type": "code",
   "execution_count": 200,
   "metadata": {},
   "outputs": [
    {
     "data": {
      "text/plain": [
       "(1, 1075)"
      ]
     },
     "execution_count": 200,
     "metadata": {},
     "output_type": "execute_result"
    }
   ],
   "source": [
    "np.zeros((1, n_z + n_y)).shape"
   ]
  },
  {
   "cell_type": "code",
   "execution_count": 201,
   "metadata": {},
   "outputs": [
    {
     "data": {
      "text/plain": [
       "(75, 1000)"
      ]
     },
     "execution_count": 201,
     "metadata": {},
     "output_type": "execute_result"
    }
   ],
   "source": [
    "n_z,n_y"
   ]
  },
  {
   "cell_type": "code",
   "execution_count": 26,
   "metadata": {},
   "outputs": [
    {
     "name": "stdout",
     "output_type": "stream",
     "text": [
      "[[0. 0. 0. 0. 0. 1. 0. 0. 0. 0. 0. 0.]]\n"
     ]
    }
   ],
   "source": [
    "def construct_numvec(digit, z = None):\n",
    "    out = np.zeros((1, n_z + n_y))\n",
    "    out[:, digit + n_z] = 1.\n",
    "    if z is None:\n",
    "        return(out)\n",
    "    else:\n",
    "        for i in range(len(z)):\n",
    "            out[:,i] = z[i]\n",
    "        return(out)\n",
    "    \n",
    "sample_3 = construct_numvec(3)\n",
    "print(sample_3)"
   ]
  },
  {
   "cell_type": "code",
   "execution_count": 27,
   "metadata": {},
   "outputs": [
    {
     "data": {
      "image/png": "[encoded data removed]",
      "text/plain": [
       "<Figure size 216x216 with 1 Axes>"
      ]
     },
     "metadata": {
      "needs_background": "light"
     },
     "output_type": "display_data"
    }
   ],
   "source": [
    "plt.figure(figsize=(3, 3))\n",
    "plt.imshow(decoder.predict(sample_3).reshape(28,28), cmap = plt.cm.gray), axis('off')\n",
    "plt.show()"
   ]
  },
  {
   "cell_type": "markdown",
   "metadata": {},
   "source": [
    "#### Exploring the latent space variables\n",
    "If the label appended dictates which digit will be produced, what does the **z** vector actually do? We know that each z-value is approximately unit-normal. I can choose a digit and plot it as I vary **z**."
   ]
  },
  {
   "cell_type": "code",
   "execution_count": 28,
   "metadata": {},
   "outputs": [
    {
     "data": {
      "image/png": "[encoded data removed]",
      "text/plain": [
       "<Figure size 432x288 with 64 Axes>"
      ]
     },
     "metadata": {
      "needs_background": "light"
     },
     "output_type": "display_data"
    }
   ],
   "source": [
    "dig = 3\n",
    "sides = 8\n",
    "max_z = 1.5\n",
    "\n",
    "img_it = 0\n",
    "for i in range(0, sides):\n",
    "    z1 = (((i / (sides-1)) * max_z)*2) - max_z\n",
    "    for j in range(0, sides):\n",
    "        z2 = (((j / (sides-1)) * max_z)*2) - max_z\n",
    "        z_ = [z1, z2]\n",
    "        vec = construct_numvec(dig, z_)\n",
    "        decoded = decoder.predict(vec)\n",
    "        subplot(sides, sides, 1 + img_it)\n",
    "        img_it +=1\n",
    "        plt.imshow(decoded.reshape(28, 28), cmap = plt.cm.gray), axis('off')\n",
    "plt.subplots_adjust(left=0, bottom=0, right=1, top=1, wspace=0, hspace=.2)\n",
    "plt.show()"
   ]
  },
  {
   "cell_type": "markdown",
   "metadata": {},
   "source": [
    "As I change **z1** (on the y-axis), the digit style becomes narrower. Varying the value of **z2** (on the x-axis) appears to rotate the digit slightly and elongate the lower portion in relation to the upper portion. There appears to be some interaction between the two values.\n",
    "\n",
    "The latent variable appears to control the \"style\" of the digit. Let's see if this transfers to other digits."
   ]
  },
  {
   "cell_type": "code",
   "execution_count": 23,
   "metadata": {},
   "outputs": [
    {
     "data": {
      "image/png": "[encoded data removed]",
      "text/plain": [
       "<matplotlib.figure.Figure at 0x7f3dde60e470>"
      ]
     },
     "metadata": {},
     "output_type": "display_data"
    }
   ],
   "source": [
    "dig = 2\n",
    "sides = 8\n",
    "max_z = 1.5\n",
    "\n",
    "img_it = 0\n",
    "for i in range(0, sides):\n",
    "    z1 = (((i / (sides-1)) * max_z)*2) - max_z\n",
    "    for j in range(0, sides):\n",
    "        z2 = (((j / (sides-1)) * max_z)*2) - max_z\n",
    "        z_ = [z1, z2]\n",
    "        vec = construct_numvec(dig, z_)\n",
    "        decoded = decoder.predict(vec)\n",
    "        subplot(sides, sides, 1 + img_it)\n",
    "        img_it +=1\n",
    "        plt.imshow(decoded.reshape(28, 28), cmap = plt.cm.gray), axis('off')\n",
    "plt.subplots_adjust(left=0, bottom=0, right=1, top=1, wspace=0, hspace=.2)\n",
    "plt.show()"
   ]
  },
  {
   "cell_type": "code",
   "execution_count": null,
   "metadata": {
    "collapsed": true
   },
   "outputs": [],
   "source": []
  }
 ],
 "metadata": {
  "kernelspec": {
   "display_name": "Python 3",
   "language": "python",
   "name": "python3"
  },
  "language_info": {
   "codemirror_mode": {
    "name": "ipython",
    "version": 3
   },
   "file_extension": ".py",
   "mimetype": "text/x-python",
   "name": "python",
   "nbconvert_exporter": "python",
   "pygments_lexer": "ipython3",
   "version": "3.6.8"
  },
  "toc": {
   "colors": {
    "hover_highlight": "#DAA520",
    "navigate_num": "#000000",
    "navigate_text": "#333333",
    "running_highlight": "#FF0000",
    "selected_highlight": "#FFD700",
    "sidebar_border": "#EEEEEE",
    "wrapper_background": "#FFFFFF"
   },
   "moveMenuLeft": true,
   "nav_menu": {
    "height": "263px",
    "width": "253px"
   },
   "navigate_menu": true,
   "number_sections": true,
   "sideBar": true,
   "threshold": 4,
   "toc_cell": false,
   "toc_section_display": "block",
   "toc_window_display": false,
   "widenNotebook": false
  }
 },
 "nbformat": 4,
 "nbformat_minor": 2
}
